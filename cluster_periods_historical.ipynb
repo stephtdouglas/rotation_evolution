{
 "cells": [
  {
   "cell_type": "code",
   "execution_count": 76,
   "metadata": {},
   "outputs": [],
   "source": [
    "import itertools, os\n",
    "\n",
    "import numpy as np\n",
    "import matplotlib.pyplot as plt\n",
    "%matplotlib inline\n",
    "import astropy.io.ascii as at\n",
    "from astropy import table\n",
    "from scipy.interpolate import interp1d\n",
    "from astroquery.simbad import Simbad\n"
   ]
  },
  {
   "cell_type": "code",
   "execution_count": 77,
   "metadata": {},
   "outputs": [],
   "source": [
    "poster_figure = (12,7)\n",
    "talk_figure = (10,6.5)\n",
    "single_figure = (8,8)\n",
    "double_figure = (13,6)\n",
    "double_stacked = (6,13)\n",
    "triple_stacked = (6,14)\n",
    "quad_square = (13,10)\n",
    "proposal_figure = (10,5.5)\n",
    "\n",
    "std_ms = 9\n",
    "std_mew = 1.5"
   ]
  },
  {
   "cell_type": "code",
   "execution_count": 138,
   "metadata": {},
   "outputs": [],
   "source": [
    "import matplotlib as mpl\n",
    "mpl.rcParams['figure.figsize'] = single_figure\n",
    "mpl.rcParams['lines.markeredgewidth'] = 1.5\n",
    "mpl.rcParams['lines.markersize'] = 8\n",
    "mpl.rcParams['font.size'] = 12\n",
    "mpl.rcParams['axes.titlesize'] = 20\n",
    "mpl.rcParams['axes.labelsize'] = 12\n",
    "mpl.rcParams['xtick.major.size'] = 4\n",
    "mpl.rcParams['xtick.minor.size'] = 2\n",
    "mpl.rcParams['xtick.major.width'] = 1\n",
    "mpl.rcParams['xtick.minor.width'] = 0.5\n",
    "mpl.rcParams['xtick.labelsize'] = 12\n",
    "mpl.rcParams['ytick.major.size'] = 6\n",
    "mpl.rcParams['ytick.minor.size'] = 3\n",
    "mpl.rcParams['ytick.major.width'] = 1.5\n",
    "mpl.rcParams['ytick.minor.width'] = 1\n",
    "mpl.rcParams['ytick.labelsize'] = 12\n",
    "mpl.rcParams['legend.frameon'] = False\n",
    "mpl.rcParams['legend.numpoints'] = 1\n",
    "mpl.rcParams['legend.fontsize'] = 12\n",
    "mpl.rcParams['xtick.top'] = True\n",
    "mpl.rcParams['ytick.right'] = True\n",
    "mpl.rcParams['xtick.direction'] = \"in\"\n",
    "mpl.rcParams['ytick.direction'] = \"in\"\n",
    "# mpl.rcParams[''] = \n",
    "\n",
    "\n",
    "# mpl.rcParams['axes.prop_cycle'] = cycler('color',cmap_qual)"
   ]
  },
  {
   "cell_type": "code",
   "execution_count": 79,
   "metadata": {},
   "outputs": [],
   "source": [
    "model_dir = os.path.expanduser(\"~/Dropbox/Models/\")\n",
    "cat_dir = os.path.expanduser(\"~/Dropbox/data/catalogs/\")"
   ]
  },
  {
   "cell_type": "code",
   "execution_count": null,
   "metadata": {},
   "outputs": [],
   "source": []
  },
  {
   "cell_type": "code",
   "execution_count": null,
   "metadata": {},
   "outputs": [],
   "source": []
  },
  {
   "cell_type": "code",
   "execution_count": null,
   "metadata": {},
   "outputs": [],
   "source": []
  },
  {
   "cell_type": "markdown",
   "metadata": {},
   "source": [
    "# Set up necessary conversions to stellar mass"
   ]
  },
  {
   "cell_type": "code",
   "execution_count": 80,
   "metadata": {},
   "outputs": [
    {
     "name": "stdout",
     "output_type": "stream",
     "text": [
      "[('SpT', '<U2'), ('Mu', '<f8'), ('Mg', '<f8'), ('Mr', '<f8'), ('Mi', '<f8'), ('Mz', '<f8'), ('MJ', '<f8'), ('MH', '<f8'), ('MK', '<f8'), ('Mbol', '<f8'), ('Teff', '<i8'), ('Mass', '<f8')]\n"
     ]
    }
   ],
   "source": [
    "kh = at.read(os.path.join(model_dir,\"kraushillenbrand5.dat\"))\n",
    "print(kh.dtype)"
   ]
  },
  {
   "cell_type": "code",
   "execution_count": 81,
   "metadata": {},
   "outputs": [],
   "source": [
    "kh_teff_mass = interp1d(kh[\"Teff\"],kh[\"Mass\"],bounds_error=False)\n",
    "kh_jk_mass = interp1d(kh[\"MJ\"]-kh[\"MK\"],kh[\"Mass\"],bounds_error=False)\n",
    "kh_gr_mass = interp1d(kh[\"Mg\"]-kh[\"Mr\"],kh[\"Mass\"],bounds_error=False)"
   ]
  },
  {
   "cell_type": "code",
   "execution_count": 82,
   "metadata": {},
   "outputs": [
    {
     "name": "stdout",
     "output_type": "stream",
     "text": [
      "[('SpT', '<U5'), ('Teff', '<i8'), ('logT', '<f8'), ('BCv', '<f8'), ('logL', '<f8'), ('Mbol', '<f8'), ('R_Rsun', '<f8'), ('Mv', '<f8'), ('B-V', '<f8'), ('Bt-Vt', '<f8'), ('G-V', '<f8'), ('Bp-Rp', '<f8'), ('G-Rp', '<f8'), ('M_G', '<f8'), ('b-y', '<f8'), ('U-B', '<f8'), ('V-Rc', '<f8'), ('V-Ic', '<f8'), ('V-Ks', '<f8'), ('J-H', '<f8'), ('H-Ks', '<f8'), ('M_J', '<f8'), ('M_Ks', '<f8'), ('Ks-W1', '<f8'), ('W1-W2', '<f8'), ('W1-W3', '<f8'), ('W1-W4', '<f8'), ('g-r', '<f8'), ('i-z', '<f8'), ('z-Y', '<f8'), ('Msun', '<f8'), ('SpT2', '<U5')]\n"
     ]
    }
   ],
   "source": [
    "# main sequence\n",
    "# pm_table = at.read(os.path.join(model_dir,\"pecaut_mamajek_2013_table5.dat\"),data_start=3)\n",
    "pm_table = at.read(os.path.join(model_dir,\"mamajek_colors.dat\"),fill_values=[(\"...\",\"0\")])\n",
    "print(pm_table.dtype)\n",
    "pm_mass = pm_table[\"Msun\"]\n",
    "# pm_mass = kh_teff_mass(pm_table[\"Teff\"])\n",
    "# # print(pm_mass)\n",
    "good = np.isfinite(pm_mass)\n",
    "# print(pm_mass[good])\n",
    "# print(pm_table[\"B-V\"][good])"
   ]
  },
  {
   "cell_type": "code",
   "execution_count": 83,
   "metadata": {},
   "outputs": [],
   "source": [
    "pm_bv_mass = interp1d(pm_table[\"B-V\"][good],pm_mass[good],bounds_error=False)\n",
    "pm_vk_mass = interp1d(pm_table[\"V-Ks\"][good],pm_mass[good],bounds_error=False)\n",
    "pm_vi_mass = interp1d(pm_table[\"V-Ic\"][good],pm_mass[good],bounds_error=False)\n",
    "pm_vi_bv = interp1d(pm_table[\"V-Ic\"][good],pm_table[\"B-V\"][good],bounds_error=False)"
   ]
  },
  {
   "cell_type": "code",
   "execution_count": 84,
   "metadata": {},
   "outputs": [],
   "source": [
    "sol_lim = {\"mass\":[0.8,1.2], \"V-K\": [1.1,1.8], \"B-V\": [0.5,0.8], \"logTeff\": [3.7,3.8]}"
   ]
  },
  {
   "cell_type": "code",
   "execution_count": 85,
   "metadata": {},
   "outputs": [],
   "source": [
    "godoy_rivera = at.read(os.path.join(cat_dir,\"godoyrivera2021_rotation.dat\"),data_start=3)\n",
    "godoy_rivera.dtype\n",
    "memb = (godoy_rivera[\"Class\"]==\"probable-member\") | (godoy_rivera[\"Class\"]==\"possible-member\")"
   ]
  },
  {
   "cell_type": "code",
   "execution_count": 86,
   "metadata": {},
   "outputs": [
    {
     "data": {
      "text/plain": [
       "dtype([('Cluster', '<U12'), ('Age', '<f8'), ('Av', '<f8'), ('GaiaDR2', '<i8'), ('OName', '<U14'), ('RA_ICRS', '<f8'), ('DE_ICRS', '<f8'), ('BP-RP', '<f8'), ('(BP-RP)0', '<f8'), ('Gmag', '<f8'), ('GMag', '<f8'), ('Teff', '<f8'), ('Prot', '<f8'), ('R147', '<i8'), ('Simbad', '<U6'), ('_RA.icrs', '<f8'), ('_DE.icrs', '<f8')])"
      ]
     },
     "execution_count": 86,
     "metadata": {},
     "output_type": "execute_result"
    }
   ],
   "source": [
    "curtis = at.read(os.path.join(cat_dir,\"curtis2020_rotation.dat\"),data_start=3)\n",
    "curtis.dtype"
   ]
  },
  {
   "cell_type": "markdown",
   "metadata": {},
   "source": [
    "# Read in cluster data"
   ]
  },
  {
   "cell_type": "code",
   "execution_count": 87,
   "metadata": {},
   "outputs": [],
   "source": [
    "customSimbad = Simbad()\n",
    "customSimbad.add_votable_fields(\"typed_id\",\n",
    "                               \"ids\",\"parallax\",\"ubv\",\"mk\",\"sptype\",\n",
    "                               \"flux(B)\",\"flux_qual(B)\",\n",
    "                               \"flux(V)\",\"flux_qual(V)\",\n",
    "                               \"flux(G)\",\"flux_qual(G)\")"
   ]
  },
  {
   "cell_type": "code",
   "execution_count": 88,
   "metadata": {
    "scrolled": false
   },
   "outputs": [
    {
     "name": "stderr",
     "output_type": "stream",
     "text": [
      "/Users/douglste/anaconda3/lib/python3.8/site-packages/astropy/table/column.py:1125: UserWarning: Warning: converting a masked element to nan.\n",
      "  self.data[index] = value\n",
      "/Users/douglste/anaconda3/lib/python3.8/site-packages/astropy/table/column.py:1125: UserWarning: Warning: converting a masked element to nan.\n",
      "  self.data[index] = value\n",
      "/Users/douglste/anaconda3/lib/python3.8/site-packages/astropy/table/column.py:1125: UserWarning: Warning: converting a masked element to nan.\n",
      "  self.data[index] = value\n",
      "/Users/douglste/anaconda3/lib/python3.8/site-packages/astropy/table/column.py:1125: UserWarning: Warning: converting a masked element to nan.\n",
      "  self.data[index] = value\n",
      "/Users/douglste/anaconda3/lib/python3.8/site-packages/astroquery/simbad/core.py:135: UserWarning: Warning: The script line number 3 raised an error (recorded in the `errors` attribute of the result table): Identifier not found in the database : Cl* Melotte   22    HII   15351\n",
      "  warnings.warn(\"Warning: The script line number %i raised \"\n",
      "/Users/douglste/anaconda3/lib/python3.8/site-packages/astropy/table/column.py:1125: UserWarning: Warning: converting a masked element to nan.\n",
      "  self.data[index] = value\n",
      "/Users/douglste/anaconda3/lib/python3.8/site-packages/astroquery/simbad/core.py:135: UserWarning: Warning: The script line number 3 raised an error (recorded in the `errors` attribute of the result table): 'V* V1231' this identifier has an incorrect format for catalog: \tV* : Variable stars\n",
      "  warnings.warn(\"Warning: The script line number %i raised \"\n",
      "/Users/douglste/anaconda3/lib/python3.8/site-packages/astropy/table/column.py:1125: UserWarning: Warning: converting a masked element to nan.\n",
      "  self.data[index] = value\n",
      "/Users/douglste/anaconda3/lib/python3.8/site-packages/astropy/table/column.py:1125: UserWarning: Warning: converting a masked element to nan.\n",
      "  self.data[index] = value\n",
      "/Users/douglste/anaconda3/lib/python3.8/site-packages/astropy/table/column.py:1125: UserWarning: Warning: converting a masked element to nan.\n",
      "  self.data[index] = value\n",
      "/Users/douglste/anaconda3/lib/python3.8/site-packages/astropy/table/column.py:1125: UserWarning: Warning: converting a masked element to nan.\n",
      "  self.data[index] = value\n",
      "/Users/douglste/anaconda3/lib/python3.8/site-packages/astropy/table/column.py:1125: UserWarning: Warning: converting a masked element to nan.\n",
      "  self.data[index] = value\n",
      "/Users/douglste/anaconda3/lib/python3.8/site-packages/astropy/table/column.py:1125: UserWarning: Warning: converting a masked element to nan.\n",
      "  self.data[index] = value\n",
      "/Users/douglste/anaconda3/lib/python3.8/site-packages/astroquery/simbad/core.py:135: UserWarning: Warning: The script line number 3 raised an error (recorded in the `errors` attribute of the result table): Identifier not found in the database : Cl* Melotte   22    HII    1336\n",
      "  warnings.warn(\"Warning: The script line number %i raised \"\n",
      "/Users/douglste/anaconda3/lib/python3.8/site-packages/astropy/table/column.py:1125: UserWarning: Warning: converting a masked element to nan.\n",
      "  self.data[index] = value\n",
      "/Users/douglste/anaconda3/lib/python3.8/site-packages/astropy/table/column.py:1125: UserWarning: Warning: converting a masked element to nan.\n",
      "  self.data[index] = value\n"
     ]
    }
   ],
   "source": [
    "# Compilation of various periods from the pre-MRT era\n",
    "old = at.read(os.path.join(cat_dir,\"old_rotation_literature_compilation.csv\"))\n",
    "old.dtype\n",
    "\n",
    "old[\"V\"] = np.zeros(len(old))*np.nan\n",
    "old[\"B\"] = np.zeros(len(old))*np.nan\n",
    "old[\"B-V\"] = np.zeros(len(old))*np.nan\n",
    "\n",
    "for i in np.where(old[\"SimbadName\"].mask==False)[0]:\n",
    "    result_table = customSimbad.query_object(old[\"SimbadName\"][i])\n",
    "    old[\"B\"][i] = result_table[\"FLUX_B\"][0]\n",
    "    old[\"V\"][i] = result_table[\"FLUX_V\"][0]\n",
    "    old[\"B-V\"][i] = result_table[\"FLUX_B\"][0] - result_table[\"FLUX_V\"][0]"
   ]
  },
  {
   "cell_type": "code",
   "execution_count": 89,
   "metadata": {},
   "outputs": [],
   "source": [
    "old[\"Mass\"] = pm_bv_mass(old[\"B-V\"])"
   ]
  },
  {
   "cell_type": "code",
   "execution_count": 90,
   "metadata": {},
   "outputs": [
    {
     "data": {
      "text/html": [
       "<i>Table length=136</i>\n",
       "<table id=\"table140614681499440-733237\" class=\"table-striped table-bordered table-condensed\">\n",
       "<thead><tr><th>idx</th><th>Name</th><th>SimbadName</th><th>Prot (d)</th><th>Population</th><th>citekey</th><th>ads_ref</th><th>Notes</th><th>V</th><th>B</th><th>B-V</th><th>Mass</th></tr></thead>\n",
       "<tr><td>0</td><td>BY Dra</td><td>V* BY Dra</td><td>3.826</td><td>Field</td><td>bopp1973</td><td>1973MNRAS.164..343B</td><td>--</td><td>nan</td><td>9.229999542236328</td><td>nan</td><td>nan</td></tr>\n",
       "<tr><td>1</td><td>CC Eri</td><td>V* CC Eri</td><td>1.56145</td><td>Field</td><td>evans1971</td><td>1971MNRAS.154..329E</td><td>Appears to be synchronized? No actual photometric period specified separately</td><td>8.864999771118164</td><td>10.201000213623047</td><td>1.3360004425048828</td><td>0.6419997787475586</td></tr>\n",
       "<tr><td>2</td><td>BD+34 106</td><td>V* FF And</td><td>3.92</td><td>Field</td><td>krzeminski1967</td><td>1967AJ.....72R.307K</td><td>--</td><td>nan</td><td>11.84000015258789</td><td>nan</td><td>nan</td></tr>\n",
       "<tr><td>3</td><td>HDE 234677</td><td>V* BY Dra</td><td>3.83</td><td>Field</td><td>krzeminski1967</td><td>1967AJ.....72R.307K</td><td>--</td><td>nan</td><td>9.229999542236328</td><td>nan</td><td>nan</td></tr>\n",
       "<tr><td>4</td><td>AC+31 70565</td><td>V* GT Peg</td><td>4.65</td><td>Field</td><td>krzeminski1967</td><td>1967AJ.....72R.307K</td><td>--</td><td>nan</td><td>nan</td><td>nan</td><td>nan</td></tr>\n",
       "<tr><td>5</td><td>HD 197481</td><td>--</td><td>4.865</td><td>--</td><td>torres1972</td><td>1972ApL....11...13T</td><td>--</td><td>nan</td><td>nan</td><td>nan</td><td>nan</td></tr>\n",
       "<tr><td>6</td><td>Hz 1883</td><td>Cl* Melotte 22 HII 1883</td><td>0.24</td><td>Pleiades</td><td>vanleeuwen1982</td><td>1982Msngr..28...15V</td><td>Simbad uses HII for the Hertzprung Catalog</td><td>12.600000381469727</td><td>13.65999984741211</td><td>1.0599994659423828</td><td>0.7450002670288086</td></tr>\n",
       "<tr><td>7</td><td>Hz 686</td><td>Cl* Melotte 22 HII 686</td><td>0.4</td><td>Pleiades</td><td>vanleeuwen1982</td><td>1982Msngr..28...15V</td><td>Simbad uses HII for the Hertzprung Catalog</td><td>13.359999656677246</td><td>14.630000114440918</td><td>1.2700004577636719</td><td>0.674999771118164</td></tr>\n",
       "<tr><td>8</td><td>Hz 3163</td><td>Cl* Melotte 22 HII 3163</td><td>0.42</td><td>Pleiades</td><td>vanleeuwen1982</td><td>1982Msngr..28...15V</td><td>Simbad uses HII for the Hertzprung Catalog</td><td>12.6899995803833</td><td>13.670000076293945</td><td>0.9800004959106445</td><td>0.7837733977695681</td></tr>\n",
       "<tr><td>9</td><td>Hz 1531</td><td>Cl* Melotte 22 HII 15351</td><td>0.48</td><td>Pleiades</td><td>vanleeuwen1982</td><td>1982Msngr..28...15V</td><td>Simbad uses HII for the Hertzprung Catalog</td><td>nan</td><td>nan</td><td>nan</td><td>nan</td></tr>\n",
       "<tr><td>10</td><td>Hz 882</td><td>Cl* Melotte 22 HII 882</td><td>0.58</td><td>Pleiades</td><td>vanleeuwen1982</td><td>1982Msngr..28...15V</td><td>Simbad uses HII for the Hertzprung Catalog</td><td>12.65999984741211</td><td>13.729999542236328</td><td>1.0699996948242188</td><td>0.7400001525878906</td></tr>\n",
       "<tr><td>11</td><td>Hz 1124</td><td>Cl* Melotte 22 HII 1124</td><td>0.86</td><td>Pleiades</td><td>vanleeuwen1982</td><td>1982Msngr..28...15V</td><td>Simbad uses HII for the Hertzprung Catalog</td><td>12.130000114440918</td><td>13.039999961853027</td><td>0.9099998474121094</td><td>0.8101887368256191</td></tr>\n",
       "<tr><td>12</td><td>Hz 879</td><td>Cl* Melotte 22 HII 879</td><td>0.88</td><td>Pleiades</td><td>vanleeuwen1982</td><td>1982Msngr..28...15V</td><td>Simbad uses HII for the Hertzprung Catalog</td><td>12.760000228881836</td><td>13.819999694824219</td><td>1.0599994659423828</td><td>0.7450002670288086</td></tr>\n",
       "<tr><td>13</td><td>Hz 34</td><td>Cl* Melotte 22 HII 34</td><td>1.17</td><td>Pleiades</td><td>vanleeuwen1982</td><td>1982Msngr..28...15V</td><td>Simbad uses HII for the Hertzprung Catalog</td><td>12.029999732971191</td><td>12.970000267028809</td><td>0.9400005340576172</td><td>0.7988677229971256</td></tr>\n",
       "<tr><td>14</td><td>Hz 1039</td><td>Cl* Melotte 22 HII 1039</td><td>1.22</td><td>Pleiades</td><td>vanleeuwen1982</td><td>1982Msngr..28...15V</td><td>Simbad uses HII for the Hertzprung Catalog</td><td>13.050000190734863</td><td>14.279999732971191</td><td>1.2299995422363281</td><td>0.6911111619737412</td></tr>\n",
       "<tr><td>15</td><td>Hz 625</td><td>Cl* Melotte 22 HII 625</td><td>0.43</td><td>Pleiades</td><td>vanleeuwen1982</td><td>1982Msngr..28...15V</td><td>Simbad uses HII for the Hertzprung Catalog</td><td>12.569999694824219</td><td>13.670000076293945</td><td>1.1000003814697266</td><td>0.7249998092651367</td></tr>\n",
       "<tr><td>16</td><td>Hz 1332</td><td>Cl* Melotte 22 HII 1332</td><td>1.14</td><td>Pleiades</td><td>vanleeuwen1982</td><td>1982Msngr..28...15V</td><td>Simbad uses HII for the Hertzprung Catalog</td><td>12.40999984741211</td><td>13.449999809265137</td><td>1.0399999618530273</td><td>0.7550000190734864</td></tr>\n",
       "<tr><td>17</td><td>HD 238447</td><td>--</td><td>3.43</td><td>--</td><td>rydgren1983</td><td>1983ApJ...267..191R</td><td>--</td><td>nan</td><td>nan</td><td>nan</td><td>nan</td></tr>\n",
       "<tr><td>18</td><td>V410 Tau</td><td>--</td><td>1.92</td><td>--</td><td>rydgren1983</td><td>1983ApJ...267..191R</td><td>--</td><td>nan</td><td>nan</td><td>nan</td><td>nan</td></tr>\n",
       "<tr><td>19</td><td>X-ray 1</td><td>V826 Tau</td><td>4.05</td><td>--</td><td>rydgren1983</td><td>1983ApJ...267..191R</td><td>From Feigelson &amp; Kriss 1981; ID&apos;d from coordinate search on Simbad</td><td>12.074000358581543</td><td>13.510000228881836</td><td>1.435999870300293</td><td>0.5508001556396485</td></tr>\n",
       "<tr><td>20</td><td>X-ray 2 (T Tau?)</td><td>V827 Tau</td><td>3.63</td><td>--</td><td>rydgren1983</td><td>1983ApJ...267..191R</td><td>From Feigelson &amp; Kriss 1981; ID&apos;d from coordinate search on Simbad</td><td>12.630000114440918</td><td>14.0</td><td>1.369999885559082</td><td>0.6143244171142578</td></tr>\n",
       "<tr><td>21</td><td>He 520</td><td>Cl Melotte 20 520</td><td>0.603</td><td>Alpha Per</td><td>stauffer1985</td><td>--</td><td>--</td><td>11.369999885559082</td><td>12.069999694824219</td><td>0.6999998092651367</td><td>0.9700000953674316</td></tr>\n",
       "<tr><td>22</td><td>AP 15</td><td>Cl* Melotte 20 AP 15</td><td>0.64</td><td>Alpha Per</td><td>stauffer1985</td><td>--</td><td>--</td><td>14.119999885559082</td><td>15.40999984741211</td><td>1.2899999618530273</td><td>0.6650000190734864</td></tr>\n",
       "<tr><td>23</td><td>AP 43</td><td>Cl* Melotte 20 AP 43</td><td>0.562</td><td>Alpha Per</td><td>stauffer1985</td><td>--</td><td>--</td><td>12.84000015258789</td><td>13.8100004196167</td><td>0.9700002670288086</td><td>0.7875470690457326</td></tr>\n",
       "<tr><td>24</td><td>AP 56</td><td>Cl* Melotte 20 AP 56</td><td>0.36</td><td>Alpha Per</td><td>stauffer1985</td><td>--</td><td>--</td><td>12.859999656677246</td><td>14.079999923706055</td><td>1.2200002670288086</td><td>0.6922221925523545</td></tr>\n",
       "<tr><td>25</td><td>AP 70</td><td>Cl* Melotte 20 AP 70</td><td>5.146</td><td>Alpha Per</td><td>stauffer1985</td><td>--</td><td>--</td><td>12.829999923706055</td><td>13.829999923706055</td><td>1.0</td><td>0.775</td></tr>\n",
       "<tr><td>26</td><td>AP 86</td><td>Cl* Melotte 20 AP 86</td><td>0.174</td><td>Alpha Per</td><td>stauffer1985</td><td>--</td><td>--</td><td>14.3100004196167</td><td>15.630000114440918</td><td>1.3199996948242188</td><td>0.6500001525878907</td></tr>\n",
       "<tr><td>27</td><td>AP 86</td><td>Cl* Melotte 20 AP 86</td><td>0.211</td><td>Alpha Per</td><td>stauffer1985</td><td>--</td><td>--</td><td>14.3100004196167</td><td>15.630000114440918</td><td>1.3199996948242188</td><td>0.6500001525878907</td></tr>\n",
       "<tr><td>28</td><td>BD+34 106</td><td>--</td><td>2.17</td><td>--</td><td>krzeminski1969</td><td>--</td><td>SB</td><td>nan</td><td>nan</td><td>nan</td><td>nan</td></tr>\n",
       "<tr><td>29</td><td>HDE 234677</td><td>--</td><td>2.836</td><td>--</td><td>krzeminski1969</td><td>--</td><td>SB</td><td>nan</td><td>nan</td><td>nan</td><td>nan</td></tr>\n",
       "<tr><td>30</td><td>HD 123 / HR 5</td><td>--</td><td>1.1</td><td>Field</td><td>bohigas1986; brettman1983</td><td>1986A%26A...157..278B</td><td>2nd citation is that within Bohigas table 1</td><td>nan</td><td>nan</td><td>nan</td><td>nan</td></tr>\n",
       "<tr><td>31</td><td>HD 1835 / 9 Cet</td><td>--</td><td>7.7</td><td>Field</td><td>bohigas1986; baliunas1983</td><td>1986A%26A...157..278B</td><td>2nd citation is that within Bohigas table 1</td><td>nan</td><td>nan</td><td>nan</td><td>nan</td></tr>\n",
       "<tr><td>32</td><td>HD 3651 / 54 Psc</td><td>--</td><td>48.0</td><td>Field</td><td>bohigas1986; baliunas1983</td><td>1986A%26A...157..278B</td><td>2nd citation is that within Bohigas table 1</td><td>nan</td><td>nan</td><td>nan</td><td>nan</td></tr>\n",
       "<tr><td>33</td><td>HD 4628</td><td>--</td><td>38.0</td><td>Field</td><td>bohigas1986; baliunas1983</td><td>1986A%26A...157..278B</td><td>2nd citation is that within Bohigas table 1</td><td>nan</td><td>nan</td><td>nan</td><td>nan</td></tr>\n",
       "<tr><td>34</td><td>HD 6920 / 44 And</td><td>--</td><td>13.1</td><td>Field</td><td>bohigas1986; baliunas1983</td><td>1986A%26A...157..278B</td><td>2nd citation is that within Bohigas table 1</td><td>nan</td><td>nan</td><td>nan</td><td>nan</td></tr>\n",
       "<tr><td>35</td><td>HD 11507</td><td>--</td><td>15.8</td><td>Field</td><td>bohigas1986; hoffman1981</td><td>1986A%26A...157..278B</td><td>2nd citation is that within Bohigas table 1</td><td>nan</td><td>nan</td><td>nan</td><td>nan</td></tr>\n",
       "<tr><td>36</td><td>HD 13421 / 64?et</td><td>--</td><td>4.4</td><td>Field</td><td>bohigas1986; gray1984</td><td>1986A%26A...157..278B</td><td>2nd citation is that within Bohigas table 1</td><td>nan</td><td>nan</td><td>nan</td><td>nan</td></tr>\n",
       "<tr><td>37</td><td>HD 16160</td><td>--</td><td>45.0</td><td>Field</td><td>bohigas1986; baliunas1983</td><td>1986A%26A...157..278B</td><td>2nd citation is that within Bohigas table 1</td><td>nan</td><td>nan</td><td>nan</td><td>nan</td></tr>\n",
       "<tr><td>38</td><td>HD 16673</td><td>--</td><td>6.2</td><td>Field</td><td>bohigas1986; baliunas1983</td><td>1986A%26A...157..278B</td><td>2nd citation is that within Bohigas table 1</td><td>nan</td><td>nan</td><td>nan</td><td>nan</td></tr>\n",
       "<tr><td>39</td><td>HD 17433</td><td>--</td><td>7.9</td><td>Field</td><td>bohigas1986; chuainov1976</td><td>1986A%26A...157..278B</td><td>2nd citation is that within Bohigas table 1</td><td>nan</td><td>nan</td><td>nan</td><td>nan</td></tr>\n",
       "<tr><td>40</td><td>HD 17925</td><td>--</td><td>6.6</td><td>Field</td><td>bohigas1986; baliunas1983</td><td>1986A%26A...157..278B</td><td>2nd citation is that within Bohigas table 1</td><td>nan</td><td>nan</td><td>nan</td><td>nan</td></tr>\n",
       "<tr><td>41</td><td>HD 20630 / kap Cet</td><td>--</td><td>9.4</td><td>Field</td><td>bohigas1986; baliunas1983</td><td>1986A%26A...157..278B</td><td>2nd citation is that within Bohigas table 1</td><td>nan</td><td>nan</td><td>nan</td><td>nan</td></tr>\n",
       "<tr><td>42</td><td>HD 22049 / eps Eri</td><td>--</td><td>11.3</td><td>Field</td><td>bohigas1986; baliunas1983</td><td>1986A%26A...157..278B</td><td>2nd citation is that within Bohigas table 1</td><td>nan</td><td>nan</td><td>nan</td><td>nan</td></tr>\n",
       "<tr><td>43</td><td>HD 25998 / 50 Per</td><td>--</td><td>2.6</td><td>Field</td><td>bohigas1986; baliunas1983</td><td>1986A%26A...157..278B</td><td>2nd citation is that within Bohigas table 1</td><td>nan</td><td>nan</td><td>nan</td><td>nan</td></tr>\n",
       "<tr><td>44</td><td>HD 26913</td><td>--</td><td>7.2</td><td>Field</td><td>bohigas1986; baliunas1983</td><td>1986A%26A...157..278B</td><td>2nd citation is that within Bohigas table 1</td><td>nan</td><td>nan</td><td>nan</td><td>nan</td></tr>\n",
       "<tr><td>45</td><td>HD 30495 / 58 Eri</td><td>--</td><td>7.6</td><td>Field</td><td>bohigas1986; baliunas1983</td><td>1986A%26A...157..278B</td><td>2nd citation is that within Bohigas table 1</td><td>nan</td><td>nan</td><td>nan</td><td>nan</td></tr>\n",
       "<tr><td>46</td><td>HD 39587 / chi1 Ori</td><td>--</td><td>5.1</td><td>Field</td><td>bohigas1986; stimets1980</td><td>1986A%26A...157..278B</td><td>2nd citation is that within Bohigas table 1</td><td>nan</td><td>nan</td><td>nan</td><td>nan</td></tr>\n",
       "<tr><td>47</td><td>HD 89744 / 42 Leo</td><td>--</td><td>12.3</td><td>Field</td><td>bohigas1986; noyes1984</td><td>1986A%26A...157..278B</td><td>2nd citation is that within Bohigas table 1</td><td>nan</td><td>nan</td><td>nan</td><td>nan</td></tr>\n",
       "<tr><td>48</td><td>HII 34</td><td>Cl* Melotte 22 HII 34</td><td>1.17</td><td>Pleiades</td><td>alphenaar1981</td><td>--</td><td>cited in Bohigas 1986</td><td>12.029999732971191</td><td>12.970000267028809</td><td>0.9400005340576172</td><td>0.7988677229971256</td></tr>\n",
       "<tr><td>49</td><td>HII 686</td><td>Cl* Melotte 22 HII 686</td><td>0.4</td><td>Pleiades</td><td>alphenaar1981</td><td>--</td><td>cited in Bohigas 1986</td><td>13.359999656677246</td><td>14.630000114440918</td><td>1.2700004577636719</td><td>0.674999771118164</td></tr>\n",
       "<tr><td>50</td><td>HII 727</td><td>Cl* Melotte 22 HII 727</td><td>1.14</td><td>Pleiades</td><td>alphenaar1981</td><td>--</td><td>cited in Bohigas 1986</td><td>9.899999618530273</td><td>10.600000381469727</td><td>0.7000007629394531</td><td>0.9699984741210936</td></tr>\n",
       "<tr><td>51</td><td>HII 879</td><td>Cl* Melotte 22 HII 879</td><td>0.88</td><td>Pleiades</td><td>alphenaar1981</td><td>--</td><td>cited in Bohigas 1986</td><td>12.760000228881836</td><td>13.819999694824219</td><td>1.0599994659423828</td><td>0.7450002670288086</td></tr>\n",
       "<tr><td>52</td><td>HII 1124</td><td>Cl* Melotte 22 HII 1124</td><td>0.85</td><td>Pleiades</td><td>alphenaar1981</td><td>--</td><td>cited in Bohigas 1986</td><td>12.130000114440918</td><td>13.039999961853027</td><td>0.9099998474121094</td><td>0.8101887368256191</td></tr>\n",
       "<tr><td>53</td><td>HII 1883</td><td>Cl* Melotte 22 HII 1883</td><td>0.24</td><td>Pleiades</td><td>alphenaar1981</td><td>--</td><td>cited in Bohigas 1986</td><td>12.600000381469727</td><td>13.65999984741211</td><td>1.0599994659423828</td><td>0.7450002670288086</td></tr>\n",
       "<tr><td>54</td><td>T65</td><td>Cl Melotte 111 65</td><td>5.33</td><td>Coma Ber</td><td>radick1990</td><td>1990ApJ...353..524R</td><td>--</td><td>9.029999732971191</td><td>9.609999656677246</td><td>0.5799999237060547</td><td>1.0800001907348633</td></tr>\n",
       "<tr><td>55</td><td>T76</td><td>Cl Melotte 111 76</td><td>4.97</td><td>Coma Ber</td><td>radick1990</td><td>1990ApJ...353..524R</td><td>--</td><td>9.0</td><td>9.619999885559082</td><td>0.619999885559082</td><td>1.0322223493787979</td></tr>\n",
       "<tr><td>56</td><td>T85</td><td>Cl Melotte 111 85</td><td>7.34</td><td>Coma Ber</td><td>radick1990</td><td>1990ApJ...353..524R</td><td>--</td><td>9.3100004196167</td><td>9.890000343322754</td><td>0.5799999237060547</td><td>1.0800001907348633</td></tr>\n",
       "<tr><td>57</td><td>T132</td><td>Cl Melotte 111 132</td><td>13.53</td><td>Coma Ber</td><td>radick1990</td><td>1990ApJ...353..524R</td><td>--</td><td>9.90999984741211</td><td>10.59000015258789</td><td>0.6800003051757812</td><td>0.9799998474121093</td></tr>\n",
       "<tr><td>58</td><td>HII 996</td><td>Cl* Melotte 22 HII 996</td><td>1.25986</td><td>Pleiades</td><td>panov1991</td><td>1991A%26A...242..112P</td><td>--</td><td>10.800000190734863</td><td>11.399999618530273</td><td>0.5999994277954102</td><td>1.054445080227322</td></tr>\n",
       "<tr><td>59</td><td>JW 347</td><td>V* V1227 Ori</td><td>7.31</td><td>Trapezium</td><td>mandel1991</td><td>1991ApJ...383L..75M</td><td>--</td><td>14.538999557495117</td><td>15.482000350952148</td><td>0.9430007934570312</td><td>0.7977355496388561</td></tr>\n",
       "<tr><td>60</td><td>JW 352</td><td>V* LQ Ori</td><td>7.98</td><td>Trapezium</td><td>mandel1991</td><td>1991ApJ...383L..75M</td><td>--</td><td>12.454999923706055</td><td>13.527000427246094</td><td>1.072000503540039</td><td>0.7389997482299805</td></tr>\n",
       "<tr><td>61</td><td>JW 378</td><td>V* V1228 Ori</td><td>9.05</td><td>Trapezium</td><td>mandel1991</td><td>1991ApJ...383L..75M</td><td>--</td><td>14.23799991607666</td><td>15.361000061035156</td><td>1.123000144958496</td><td>0.7134999275207519</td></tr>\n",
       "<tr><td>62</td><td>JW 567</td><td>V* MT Ori</td><td>8.58</td><td>Trapezium</td><td>mandel1991</td><td>1991ApJ...383L..75M</td><td>--</td><td>12.229000091552734</td><td>13.208000183105469</td><td>0.9790000915527344</td><td>0.7841509088480247</td></tr>\n",
       "<tr><td>63</td><td>JW 589</td><td>V* V1229 Ori</td><td>14.32</td><td>Trapezium</td><td>mandel1991</td><td>1991ApJ...383L..75M</td><td>--</td><td>13.25100040435791</td><td>14.256999969482422</td><td>1.0059995651245117</td><td>0.7720002174377442</td></tr>\n",
       "<tr><td>64</td><td>JW 660</td><td>V* V1230 Ori</td><td>6.15</td><td>Trapezium</td><td>mandel1991</td><td>1991ApJ...383L..75M</td><td>--</td><td>9.736000061035156</td><td>10.041000366210938</td><td>0.30500030517578125</td><td>1.5785704694475446</td></tr>\n",
       "<tr><td>65</td><td>JW 710</td><td>V* V1231</td><td>7.53</td><td>Trapezium</td><td>mandel1991</td><td>1991ApJ...383L..75M</td><td>--</td><td>nan</td><td>nan</td><td>nan</td><td>nan</td></tr>\n",
       "<tr><td>66</td><td>P 12</td><td>Cl* IC 4665 P 12</td><td>0.6</td><td>IC 4665</td><td>allain1996</td><td>1996A%26A...305..498A</td><td>--</td><td>12.729000091552734</td><td>13.489999771118164</td><td>0.7609996795654297</td><td>0.9124447292751736</td></tr>\n",
       "<tr><td>67</td><td>P 27</td><td>Cl* IC 4665 P 27</td><td>1.54</td><td>IC 4665</td><td>allain1996</td><td>1996A%26A...305..498A</td><td>--</td><td>12.604000091552734</td><td>13.416999816894531</td><td>0.8129997253417969</td><td>0.8814635486137576</td></tr>\n",
       "<tr><td>68</td><td>P 39</td><td>Cl* IC 4665 P 39</td><td>3.7</td><td>IC 4665</td><td>allain1996</td><td>1996A%26A...305..498A</td><td>--</td><td>nan</td><td>13.680000305175781</td><td>nan</td><td>nan</td></tr>\n",
       "<tr><td>69</td><td>P 71</td><td>Cl* IC 4665 P 71</td><td>3.0</td><td>IC 4665</td><td>allain1996</td><td>1996A%26A...305..498A</td><td>--</td><td>13.715999603271484</td><td>14.600000381469727</td><td>0.8840007781982422</td><td>0.819999706340286</td></tr>\n",
       "<tr><td>70</td><td>P 75</td><td>Cl* IC 4665 P 75</td><td>2.5</td><td>IC 4665</td><td>allain1996</td><td>1996A%26A...305..498A</td><td>--</td><td>13.715999603271484</td><td>14.390000343322754</td><td>0.6740007400512695</td><td>0.9829996299743653</td></tr>\n",
       "<tr><td>71</td><td>P 100</td><td>Cl* IC 4665 P 100</td><td>2.27</td><td>IC 4665</td><td>allain1996</td><td>1996A%26A...305..498A</td><td>--</td><td>14.406999588012695</td><td>15.430000305175781</td><td>1.023000717163086</td><td>0.763499641418457</td></tr>\n",
       "<tr><td>72</td><td>P 150</td><td>Cl* IC 4665 P 150</td><td>2.22</td><td>IC 4665</td><td>allain1996</td><td>1996A%26A...305..498A</td><td>--</td><td>13.12600040435791</td><td>13.9399995803833</td><td>0.8139991760253906</td><td>0.8809760116949313</td></tr>\n",
       "<tr><td>73</td><td>P 155</td><td>Cl* IC 4665 P 155</td><td>2.4</td><td>IC 4665</td><td>allain1996</td><td>1996A%26A...305..498A</td><td>--</td><td>nan</td><td>14.430000305175781</td><td>nan</td><td>nan</td></tr>\n",
       "<tr><td>74</td><td>AP 60</td><td>Cl* Melotte 20 AP 60</td><td>0.318</td><td>Alpha Per</td><td>prosser1993</td><td>1993PASP..105..269P</td><td>--</td><td>15.819999694824219</td><td>17.520000457763672</td><td>1.7000007629394531</td><td>0.18242845153808593</td></tr>\n",
       "<tr><td>75</td><td>AP 86</td><td>Cl* Melotte 20 AP 86</td><td>0.211</td><td>Alpha Per</td><td>prosser1993</td><td>1993PASP..105..269P</td><td>--</td><td>14.3100004196167</td><td>15.630000114440918</td><td>1.3199996948242188</td><td>0.6500001525878907</td></tr>\n",
       "<tr><td>76</td><td>AP 91</td><td>Cl* Melotte 20 AP 91</td><td>1.508</td><td>Alpha Per</td><td>prosser1993</td><td>1993PASP..105..269P</td><td>--</td><td>nan</td><td>13.520000457763672</td><td>nan</td><td>nan</td></tr>\n",
       "<tr><td>77</td><td>AP 93</td><td>Cl* Melotte 20 AP 93</td><td>0.617</td><td>Alpha Per</td><td>prosser1993</td><td>1993PASP..105..269P</td><td>--</td><td>nan</td><td>12.920000076293945</td><td>nan</td><td>nan</td></tr>\n",
       "<tr><td>78</td><td>AP 100</td><td>Cl* Melotte 20 AP 100</td><td>0.207</td><td>Alpha Per</td><td>prosser1993</td><td>1993PASP..105..269P</td><td>--</td><td>nan</td><td>13.930000305175781</td><td>nan</td><td>nan</td></tr>\n",
       "<tr><td>79</td><td>AP 139</td><td>Cl* Melotte 20 AP 139</td><td>0.263</td><td>Alpha Per</td><td>prosser1993</td><td>1993PASP..105..269P</td><td>--</td><td>11.640000343322754</td><td>12.760000228881836</td><td>1.119999885559082</td><td>0.7150000572204589</td></tr>\n",
       "<tr><td>80</td><td>AP 258</td><td>Cl* Melotte 20 AP 258</td><td>0.263</td><td>Alpha Per</td><td>prosser1993</td><td>1993PASP..105..269P</td><td>--</td><td>11.579999923706055</td><td>12.75</td><td>1.1700000762939453</td><td>0.6977777693006727</td></tr>\n",
       "<tr><td>81</td><td>HII 1136</td><td>Cl* Melotte 22 HII 1336</td><td>0.524</td><td>Pleiades</td><td>prosser1993</td><td>1993PASP..105..269P</td><td>--</td><td>nan</td><td>nan</td><td>nan</td><td>nan</td></tr>\n",
       "<tr><td>82</td><td>HII 1883</td><td>Cl* Melotte 22 HII 1883</td><td>0.233</td><td>Pleiades</td><td>prosser1993</td><td>1993PASP..105..269P</td><td>--</td><td>12.600000381469727</td><td>13.65999984741211</td><td>1.0599994659423828</td><td>0.7450002670288086</td></tr>\n",
       "<tr><td>83</td><td>WTT 040012+2545</td><td>--</td><td>0.466</td><td>Field</td><td>prosser1993</td><td>1993PASP..105..269P</td><td>--</td><td>nan</td><td>nan</td><td>nan</td><td>nan</td></tr>\n",
       "<tr><td>84</td><td>HCG 20</td><td>Cl* Melotte 22 HCG 20</td><td>2.7</td><td>Pleiades</td><td>krishnamurthi1998</td><td>1998ApJ...493..914K</td><td>--</td><td>14.229999542236328</td><td>15.600000381469727</td><td>1.3700008392333984</td><td>0.6143236438648121</td></tr>\n",
       "<tr><td>85</td><td>HCG 71</td><td>Cl* Melotte 22 HCG 71</td><td>2.98</td><td>Pleiades</td><td>krishnamurthi1998</td><td>1998ApJ...493..914K</td><td>--</td><td>14.479999542236328</td><td>15.890000343322754</td><td>1.4100008010864258</td><td>0.5799991989135741</td></tr>\n",
       "<tr><td>86</td><td>HII 133</td><td>Cl* Melotte 22 HII 133</td><td>1.36</td><td>Pleiades</td><td>krishnamurthi1998</td><td>1998ApJ...493..914K</td><td>--</td><td>14.300000190734863</td><td>15.680000305175781</td><td>1.380000114440918</td><td>0.6062161234262827</td></tr>\n",
       "<tr><td>87</td><td>HII 191</td><td>Cl* Melotte 22 HII 191</td><td>3.1</td><td>Pleiades</td><td>krishnamurthi1998</td><td>1998ApJ...493..914K</td><td>--</td><td>nan</td><td>16.0</td><td>nan</td><td>nan</td></tr>\n",
       "<tr><td>88</td><td>HII 263</td><td>Cl* Melotte 22 HII 263</td><td>4.82</td><td>Pleiades</td><td>krishnamurthi1998</td><td>1998ApJ...493..914K</td><td>--</td><td>11.539999961853027</td><td>12.420000076293945</td><td>0.880000114440918</td><td>0.8259257563838251</td></tr>\n",
       "<tr><td>89</td><td>HII 345</td><td>Cl* Melotte 22 HII 345</td><td>0.84</td><td>Pleiades</td><td>krishnamurthi1998</td><td>1998ApJ...493..914K</td><td>--</td><td>11.461000442504883</td><td>12.288000106811523</td><td>0.8269996643066406</td><td>0.8746343100943216</td></tr>\n",
       "<tr><td>90</td><td>HII 738</td><td>Cl* Melotte 22 HII 738</td><td>0.83</td><td>Pleiades</td><td>krishnamurthi1998</td><td>1998ApJ...493..914K</td><td>--</td><td>12.40999984741211</td><td>13.520000457763672</td><td>1.1100006103515625</td><td>0.7199996948242188</td></tr>\n",
       "<tr><td>91</td><td>HII 883</td><td>Cl* Melotte 22 HII 883</td><td>7.2</td><td>Pleiades</td><td>krishnamurthi1998</td><td>1998ApJ...493..914K</td><td>--</td><td>13.020000457763672</td><td>14.140000343322754</td><td>1.119999885559082</td><td>0.7150000572204589</td></tr>\n",
       "<tr><td>92</td><td>HII 930</td><td>Cl* Melotte 22 HII 930</td><td>1.39</td><td>Pleiades</td><td>krishnamurthi1998</td><td>1998ApJ...493..914K</td><td>--</td><td>14.220000267028809</td><td>15.59000015258789</td><td>1.369999885559082</td><td>0.6143244171142578</td></tr>\n",
       "<tr><td>93</td><td>HII 1032</td><td>Cl* Melotte 22 HII 1032</td><td>1.31</td><td>Pleiades</td><td>krishnamurthi1998</td><td>1998ApJ...493..914K</td><td>--</td><td>11.100000381469727</td><td>11.850000381469727</td><td>0.75</td><td>0.9222222222222222</td></tr>\n",
       "<tr><td>94</td><td>HII 1280</td><td>Cl* Melotte 22 HII 1280</td><td>0.302</td><td>Pleiades</td><td>krishnamurthi1998</td><td>1998ApJ...493..914K</td><td>--</td><td>14.579999923706055</td><td>15.930000305175781</td><td>1.3500003814697266</td><td>0.6313040161132812</td></tr>\n",
       "<tr><td>95</td><td>HII 1305</td><td>Cl* Melotte 22 HII 1305</td><td>0.389</td><td>Pleiades</td><td>krishnamurthi1998</td><td>1998ApJ...493..914K</td><td>--</td><td>13.520000457763672</td><td>14.710000038146973</td><td>1.1899995803833008</td><td>0.6955556021796332</td></tr>\n",
       "<tr><td>96</td><td>HII 1512</td><td>Cl* Melotte 22 HII 1512</td><td>8.2</td><td>Pleiades</td><td>krishnamurthi1998</td><td>1998ApJ...493..914K</td><td>--</td><td>13.5</td><td>14.869999885559082</td><td>1.369999885559082</td><td>0.6143244171142578</td></tr>\n",
       "<tr><td>97</td><td>HII 1532</td><td>Cl* Melotte 22 HII 1532</td><td>0.78</td><td>Pleiades</td><td>krishnamurthi1998</td><td>1998ApJ...493..914K</td><td>--</td><td>13.949999809265137</td><td>15.210000038146973</td><td>1.260000228881836</td><td>0.679999885559082</td></tr>\n",
       "<tr><td>98</td><td>HII 1653</td><td>Cl* Melotte 22 HII 1653</td><td>0.74</td><td>Pleiades</td><td>krishnamurthi1998</td><td>1998ApJ...493..914K</td><td>--</td><td>13.510000228881836</td><td>14.710000038146973</td><td>1.1999998092651367</td><td>0.694444465637207</td></tr>\n",
       "<tr><td>99</td><td>HII 2786</td><td>Cl* Melotte 22 HII 2786</td><td>2.21</td><td>Pleiades</td><td>krishnamurthi1998</td><td>1998ApJ...493..914K</td><td>--</td><td>10.5</td><td>10.899999618530273</td><td>0.39999961853027344</td><td>1.4100011444091796</td></tr>\n",
       "<tr><td>100</td><td>HII 2966</td><td>Cl* Melotte 22 HII 2966</td><td>4.6</td><td>Pleiades</td><td>krishnamurthi1998</td><td>1998ApJ...493..914K</td><td>--</td><td>14.739999771118164</td><td>16.399999618530273</td><td>1.6599998474121094</td><td>0.21850017547607414</td></tr>\n",
       "<tr><td>101</td><td>HII 3197</td><td>Cl* Melotte 22 HII 3197</td><td>0.44</td><td>Pleiades</td><td>krishnamurthi1998</td><td>1998ApJ...493..914K</td><td>--</td><td>11.40999984741211</td><td>13.569999694824219</td><td>2.1599998474121094</td><td>0.08000007629394539</td></tr>\n",
       "<tr><td>102</td><td>HII 34</td><td>Cl* Melotte 22 HII 345</td><td>6.553</td><td>Pleiades</td><td>vanleeuwen1987</td><td>1987A%26AS...67..483V</td><td>--</td><td>11.461000442504883</td><td>12.288000106811523</td><td>0.8269996643066406</td><td>0.8746343100943216</td></tr>\n",
       "<tr><td>103</td><td>HII 625</td><td>Cl* Melotte 22 HII 625</td><td>0.4282</td><td>Pleiades</td><td>vanleeuwen1987</td><td>1987A%26AS...67..483V</td><td>--</td><td>12.569999694824219</td><td>13.670000076293945</td><td>1.1000003814697266</td><td>0.7249998092651367</td></tr>\n",
       "<tr><td>104</td><td>HII 686</td><td>Cl* Melotte 22 HII 686</td><td>0.39653</td><td>Pleiades</td><td>vanleeuwen1987</td><td>1987A%26AS...67..483V</td><td>--</td><td>13.359999656677246</td><td>14.630000114440918</td><td>1.2700004577636719</td><td>0.674999771118164</td></tr>\n",
       "<tr><td>105</td><td>HII 727</td><td>Cl* Melotte 22 HII 727</td><td>8.07</td><td>Pleiades</td><td>vanleeuwen1987</td><td>1987A%26AS...67..483V</td><td>--</td><td>9.899999618530273</td><td>10.600000381469727</td><td>0.7000007629394531</td><td>0.9699984741210936</td></tr>\n",
       "<tr><td>106</td><td>HII 879</td><td>Cl* Melotte 22 HII 879</td><td>7.386</td><td>Pleiades</td><td>vanleeuwen1987</td><td>1987A%26AS...67..483V</td><td>--</td><td>12.760000228881836</td><td>13.819999694824219</td><td>1.0599994659423828</td><td>0.7450002670288086</td></tr>\n",
       "<tr><td>107</td><td>HII 882</td><td>Cl* Melotte 22 HII 882</td><td>0.5798</td><td>Pleiades</td><td>vanleeuwen1987</td><td>1987A%26AS...67..483V</td><td>--</td><td>12.65999984741211</td><td>13.729999542236328</td><td>1.0699996948242188</td><td>0.7400001525878906</td></tr>\n",
       "<tr><td>108</td><td>HII 1124</td><td>Cl* Melotte 22 HII 1124</td><td>6.051</td><td>Pleiades</td><td>vanleeuwen1987</td><td>1987A%26AS...67..483V</td><td>--</td><td>12.130000114440918</td><td>13.039999961853027</td><td>0.9099998474121094</td><td>0.8101887368256191</td></tr>\n",
       "<tr><td>109</td><td>HII 1332</td><td>Cl* Melotte 22 HII 1332</td><td>8.3</td><td>Pleiades</td><td>vanleeuwen1987</td><td>1987A%26AS...67..483V</td><td>--</td><td>12.40999984741211</td><td>13.449999809265137</td><td>1.0399999618530273</td><td>0.7550000190734864</td></tr>\n",
       "<tr><td>110</td><td>HII 1531</td><td>Cl* Melotte 22 HII 1531</td><td>0.483</td><td>Pleiades</td><td>vanleeuwen1987</td><td>1987A%26AS...67..483V</td><td>--</td><td>13.579999923706055</td><td>14.850000381469727</td><td>1.2700004577636719</td><td>0.674999771118164</td></tr>\n",
       "<tr><td>111</td><td>HII 2034</td><td>Cl* Melotte 22 HII 2034</td><td>0.5516</td><td>Pleiades</td><td>vanleeuwen1987</td><td>1987A%26AS...67..483V</td><td>--</td><td>12.649999618530273</td><td>13.609999656677246</td><td>0.9600000381469727</td><td>0.7913207403218971</td></tr>\n",
       "<tr><td>112</td><td>HII 3163</td><td>Cl* Melotte 22 HII 3163</td><td>0.4178</td><td>Pleiades</td><td>vanleeuwen1987</td><td>1987A%26AS...67..483V</td><td>--</td><td>12.6899995803833</td><td>13.670000076293945</td><td>0.9800004959106445</td><td>0.7837733977695681</td></tr>\n",
       "<tr><td>113</td><td>VB 65</td><td>Cl Melotte 25 65</td><td>5.87</td><td>Hyades</td><td>radick1987</td><td>1987ApJ...321..459R</td><td>--</td><td>7.4039998054504395</td><td>7.948999881744385</td><td>0.5450000762939453</td><td>1.1549998728434245</td></tr>\n",
       "<tr><td>114</td><td>VB 59</td><td>Cl Melotte 25 59</td><td>4.83</td><td>Hyades</td><td>radick1987</td><td>1987ApJ...321..459R</td><td>--</td><td>7.4720001220703125</td><td>8.027000427246094</td><td>0.5550003051757812</td><td>1.1383328247070312</td></tr>\n",
       "<tr><td>115</td><td>VB 31</td><td>Cl Melotte 25 31</td><td>5.45</td><td>Hyades</td><td>radick1987</td><td>1987ApJ...321..459R</td><td>--</td><td>7.443999767303467</td><td>8.015999794006348</td><td>0.5720000267028809</td><td>1.0999999332427979</td></tr>\n",
       "<tr><td>116</td><td>VB 52</td><td>Cl Melotte 25 52</td><td>8.05</td><td>Hyades</td><td>radick1987</td><td>1987ApJ...321..459R</td><td>--</td><td>7.789999961853027</td><td>8.381999969482422</td><td>0.5920000076293945</td><td>1.063999989827474</td></tr>\n",
       "<tr><td>117</td><td>VB 50</td><td>Cl Melotte 25 50</td><td>7.1</td><td>Hyades</td><td>radick1987</td><td>1987ApJ...321..459R</td><td>--</td><td>7.583000183105469</td><td>8.217000007629395</td><td>0.6339998245239258</td><td>1.0171430451529366</td></tr>\n",
       "<tr><td>118</td><td>VB 102</td><td>Cl Melotte 25 102</td><td>6.46</td><td>Hyades</td><td>radick1987</td><td>1987ApJ...321..459R</td><td>--</td><td>7.545000076293945</td><td>8.152999877929688</td><td>0.6079998016357422</td><td>1.0455557759602865</td></tr>\n",
       "<tr><td>119</td><td>VB 73</td><td>Cl Melotte 25 73</td><td>7.41</td><td>Hyades</td><td>radick1987</td><td>1987ApJ...321..459R</td><td>--</td><td>7.836999893188477</td><td>8.456000328063965</td><td>0.6190004348754883</td><td>1.0333328501383463</td></tr>\n",
       "<tr><td>120</td><td>VB 63</td><td>Cl Melotte 25 63</td><td>7.73</td><td>Hyades</td><td>radick1987</td><td>1987ApJ...321..459R</td><td>--</td><td>8.050000190734863</td><td>8.6899995803833</td><td>0.6399993896484375</td><td>1.0107149396623885</td></tr>\n",
       "<tr><td>121</td><td>VB 97</td><td>Cl Melotte 25 97</td><td>8.55</td><td>Hyades</td><td>radick1987</td><td>1987ApJ...321..459R</td><td>--</td><td>7.8979997634887695</td><td>8.529999732971191</td><td>0.6319999694824219</td><td>1.0192857469831194</td></tr>\n",
       "<tr><td>122</td><td>VB 64</td><td>Cl Melotte 25 64</td><td>8.67</td><td>Hyades</td><td>radick1987</td><td>1987ApJ...321..459R</td><td>--</td><td>8.119999885559082</td><td>8.779999732971191</td><td>0.6599998474121094</td><td>0.9900001525878906</td></tr>\n",
       "<tr><td>123</td><td>VB 92</td><td>Cl Melotte 25 92</td><td>9.04</td><td>Hyades</td><td>radick1987</td><td>1987ApJ...321..459R</td><td>--</td><td>8.640999794006348</td><td>9.395999908447266</td><td>0.755000114440918</td><td>0.9177776760525174</td></tr>\n",
       "<tr><td>124</td><td>VB 26</td><td>Cl Melotte 25 26</td><td>9.39</td><td>Hyades</td><td>radick1987</td><td>1987ApJ...321..459R</td><td>--</td><td>8.597000122070312</td><td>9.345000267028809</td><td>0.7480001449584961</td><td>0.9239998711480034</td></tr>\n",
       "<tr><td>125</td><td>VB 69</td><td>Cl Melotte 25 69</td><td>11.52</td><td>Hyades</td><td>radick1987</td><td>1987ApJ...321..459R</td><td>--</td><td>8.579999923706055</td><td>9.315999984741211</td><td>0.7360000610351562</td><td>0.9346666124131944</td></tr>\n",
       "<tr><td>126</td><td>VB 21</td><td>Cl Melotte 25 21</td><td>8.98</td><td>Hyades</td><td>radick1987</td><td>1987ApJ...321..459R</td><td>--</td><td>9.125</td><td>9.944000244140625</td><td>0.819000244140625</td><td>0.8785364662728659</td></tr>\n",
       "<tr><td>127</td><td>VB 79</td><td>Cl Melotte 25 79</td><td>11.38</td><td>Hyades</td><td>radick1987</td><td>1987ApJ...321..459R</td><td>--</td><td>8.934000015258789</td><td>9.76099967956543</td><td>0.8269996643066406</td><td>0.8746343100943216</td></tr>\n",
       "<tr><td>128</td><td>VB 91</td><td>Cl Melotte 25 91</td><td>9.36</td><td>Hyades</td><td>radick1987</td><td>1987ApJ...321..459R</td><td>--</td><td>8.899999618530273</td><td>9.850000381469727</td><td>0.9500007629394531</td><td>0.795094051720961</td></tr>\n",
       "<tr><td>129</td><td>VB 43</td><td>Cl Melotte 25 43</td><td>10.26</td><td>Hyades</td><td>radick1987</td><td>1987ApJ...321..459R</td><td>--</td><td>9.380999565124512</td><td>10.289999961853027</td><td>0.9090003967285156</td><td>0.8105658880269752</td></tr>\n",
       "<tr><td>130</td><td>VB 25</td><td>Cl Melotte 25 25</td><td>12.64</td><td>Hyades</td><td>radick1987</td><td>1987ApJ...321..459R</td><td>--</td><td>9.54800033569336</td><td>10.531999588012695</td><td>0.9839992523193359</td><td>0.7822644330870431</td></tr>\n",
       "<tr><td>131</td><td>VB 175</td><td>Cl Melotte 25 175</td><td>10.82</td><td>Hyades</td><td>radick1987</td><td>1987ApJ...321..459R</td><td>--</td><td>10.248000144958496</td><td>11.276000022888184</td><td>1.0279998779296875</td><td>0.7610000610351563</td></tr>\n",
       "<tr><td>132</td><td>VB 174</td><td>Cl Melotte 25 174</td><td>11.88</td><td>Hyades</td><td>radick1987</td><td>1987ApJ...321..459R</td><td>--</td><td>9.965999603271484</td><td>11.03499984741211</td><td>1.069000244140625</td><td>0.7404998779296875</td></tr>\n",
       "<tr><td>133</td><td>VB 181</td><td>Cl Melotte 25 181</td><td>11.92</td><td>Hyades</td><td>radick1987</td><td>1987ApJ...321..459R</td><td>--</td><td>10.628999710083008</td><td>11.479999542236328</td><td>0.8509998321533203</td><td>0.8629269111447218</td></tr>\n",
       "<tr><td>134</td><td>VB 173</td><td>Cl Melotte 25 173</td><td>14.14</td><td>Hyades</td><td>radick1987</td><td>1987ApJ...321..459R</td><td>--</td><td>10.472000122070312</td><td>11.885000228881836</td><td>1.4130001068115234</td><td>0.5769998931884764</td></tr>\n",
       "<tr><td>135</td><td>VB 190</td><td>Cl Melotte 25 190</td><td>3.66</td><td>Hyades</td><td>radick1987</td><td>1987ApJ...321..459R</td><td>--</td><td>10.697999954223633</td><td>12.00100040435791</td><td>1.3030004501342773</td><td>0.6584997749328614</td></tr>\n",
       "</table><style>table.dataTable {clear: both; width: auto !important; margin: 0 !important;}\n",
       ".dataTables_info, .dataTables_length, .dataTables_filter, .dataTables_paginate{\n",
       "display: inline-block; margin-right: 1em; }\n",
       ".paginate_button { margin-right: 5px; }\n",
       "</style>\n",
       "<script>\n",
       "\n",
       "var astropy_sort_num = function(a, b) {\n",
       "    var a_num = parseFloat(a);\n",
       "    var b_num = parseFloat(b);\n",
       "\n",
       "    if (isNaN(a_num) && isNaN(b_num))\n",
       "        return ((a < b) ? -1 : ((a > b) ? 1 : 0));\n",
       "    else if (!isNaN(a_num) && !isNaN(b_num))\n",
       "        return ((a_num < b_num) ? -1 : ((a_num > b_num) ? 1 : 0));\n",
       "    else\n",
       "        return isNaN(a_num) ? -1 : 1;\n",
       "}\n",
       "\n",
       "require.config({paths: {\n",
       "    datatables: 'https://cdn.datatables.net/1.10.12/js/jquery.dataTables.min'\n",
       "}});\n",
       "require([\"datatables\"], function(){\n",
       "    console.log(\"$('#table140614681499440-733237').dataTable()\");\n",
       "    \n",
       "jQuery.extend( jQuery.fn.dataTableExt.oSort, {\n",
       "    \"optionalnum-asc\": astropy_sort_num,\n",
       "    \"optionalnum-desc\": function (a,b) { return -astropy_sort_num(a, b); }\n",
       "});\n",
       "\n",
       "    $('#table140614681499440-733237').dataTable({\n",
       "        order: [],\n",
       "        pageLength: 50,\n",
       "        lengthMenu: [[10, 25, 50, 100, 500, 1000, -1], [10, 25, 50, 100, 500, 1000, 'All']],\n",
       "        pagingType: \"full_numbers\",\n",
       "        columnDefs: [{targets: [0, 3, 8, 9, 10, 11], type: \"optionalnum\"}]\n",
       "    });\n",
       "});\n",
       "</script>\n"
      ],
      "text/plain": [
       "<IPython.core.display.HTML object>"
      ]
     },
     "execution_count": 90,
     "metadata": {},
     "output_type": "execute_result"
    }
   ],
   "source": [
    "old.show_in_notebook()"
   ]
  },
  {
   "cell_type": "markdown",
   "metadata": {},
   "source": [
    "## Now actual clusters"
   ]
  },
  {
   "cell_type": "code",
   "execution_count": 91,
   "metadata": {},
   "outputs": [
    {
     "name": "stdout",
     "output_type": "stream",
     "text": [
      "[('ID', '<i8'), ('Per', '<f8'), ('r_Per', '<U4'), ('LogT', '<f8'), ('LogL', '<f8'), ('Mass', '<f8'), ('Delta(I-K)', '<f8'), ('H97', '<U3')]\n"
     ]
    }
   ],
   "source": [
    "onc1 = at.read(os.path.join(cat_dir,\"ONC_rotation_herbst2002_compilation.tsv\"),data_start=3)\n",
    "print(onc1.dtype)\n",
    "onc_per = np.asarray(onc1[\"Per\"])\n",
    "onc_mass = np.asarray(onc1[\"Mass\"])"
   ]
  },
  {
   "cell_type": "code",
   "execution_count": 92,
   "metadata": {},
   "outputs": [
    {
     "name": "stdout",
     "output_type": "stream",
     "text": [
      "[('_RAJ2000', '<f8'), ('_DEJ2000', '<f8'), ('XID', '<i8'), ('WFI', '<i8'), ('RAJ2000', '<f8'), ('DEJ2000', '<f8'), ('Vmag', '<f8'), ('Imag', '<f8'), ('Per', '<f8'), ('u_Per', '<U1'), ('Mass', '<f8'), ('Age', '<f8'), ('Lbol', '<f8'), ('Rad', '<f8'), ('logLX', '<f8'), ('IR?', '<U1'), ('Ha', '<U1'), ('r_Ha', '<U1'), ('SB2?', '<U1'), ('P', '<i8'), ('Simbad', '<U6')]\n"
     ]
    }
   ],
   "source": [
    "ngc6530 = at.read(os.path.join(cat_dir,\"ngc6530_rotation_henderson2012.tsv\"),data_start=3)\n",
    "print(ngc6530.dtype)\n",
    "ngc6530_mass = ngc6530[\"Mass\"]\n",
    "ngc6530_per = ngc6530[\"Per\"]"
   ]
  },
  {
   "cell_type": "code",
   "execution_count": 93,
   "metadata": {},
   "outputs": [
    {
     "name": "stdout",
     "output_type": "stream",
     "text": [
      "[('[IHA2008b]', '<U13'), ('RAJ2000', '<U11'), ('DEJ2000', '<U11'), ('Vmag', '<f8'), ('Imag', '<f8'), ('Per', '<f8'), ('iamp', '<f8'), ('Mass', '<f8'), ('Rad', '<f8'), ('[3.6]', '<f8'), ('[4.5]', '<f8'), ('[5.8]', '<f8'), ('[8.0]', '<f8')]\n"
     ]
    }
   ],
   "source": [
    "ngc2362 = at.read(os.path.join(cat_dir,\"ngc2362_rotation_irwin2008b.csv\"),data_start=3)\n",
    "print(ngc2362 .dtype)\n",
    "# ceph = ceph[(ceph[\"f_Per\"]==\"OO\") & (ceph[\"f_V-I\"]==\"OO\")]\n",
    "ngc2362_per = ngc2362[\"Per\"]\n",
    "ngc2362_mass = ngc2362[\"Mass\"]"
   ]
  },
  {
   "cell_type": "code",
   "execution_count": 94,
   "metadata": {},
   "outputs": [
    {
     "name": "stdout",
     "output_type": "stream",
     "text": [
      "[('EPIC', '<i8'), ('RAJ2000', '<U11'), ('DEJ2000', '<U11'), ('OName', '<U29'), ('Vmag', '<f8'), ('Ksmag', '<f8'), ('(V-Ks)o', '<f8'), ('(V-Ks)u', '<f8'), ('E(V-Ks)', '<f8'), ('Ksmag0', '<f8'), ('(V-Ks)0', '<f8'), ('n_(V-Ks)', '<i8'), ('n_(V-Ks)0', '<i8'), ('Per1', '<f8'), ('Per2', '<f8'), ('Per3', '<f8'), ('Per4', '<f8'), ('Memb', '<U11'), ('Disk', '<U5'), ('DStart', '<U10'), ('Dip', '<U3'), ('Burst', '<U3'), ('Multi', '<U6'), ('DD', '<U3'), ('DDmove', '<U3'), ('Shch', '<U3'), ('Beat', '<U3'), ('CPeak', '<U3'), ('RClose', '<U3'), ('RDist', '<U3'), ('Pulse', '<U3'), ('SimbadName', '<U14')]\n"
     ]
    }
   ],
   "source": [
    "usco = at.read(os.path.join(cat_dir,\"usco_rhooph_rotation_rebull2018.csv\"),data_start=3)\n",
    "print(usco.dtype)\n",
    "usco_memb = (usco[\"Memb\"]==\"USco,bronze\") | (usco[\"Memb\"]==\"USco,silver\") | (usco[\"Memb\"]==\"USco,gold\") \n",
    "usco_mass = pm_vk_mass(np.asarray(usco[\"(V-Ks)0\"][usco_memb]))\n",
    "usco_per = usco[\"Per1\"][usco_memb]"
   ]
  },
  {
   "cell_type": "code",
   "execution_count": 95,
   "metadata": {},
   "outputs": [
    {
     "name": "stdout",
     "output_type": "stream",
     "text": [
      "[('_RAJ2000', '<f8'), ('_DEJ2000', '<f8'), ('Seq', '<i8'), ('RAJ2000', '<U11'), ('DEJ2000', '<U11'), (\"i'mag\", '<f8'), ('Per', '<f8'), ('Power', '<f8'), ('l_FAP', '<U1'), ('FAP', '<f8'), ('Amp', '<f8'), ('Mass', '<f8'), ('bin', '<i8'), ('Vmag', '<f8'), ('Icmag', '<f8'), ('Jmag', '<f8'), ('Hmag', '<f8'), ('Kmag', '<f8'), ('Mmb', '<i8'), ('XH', '<U4')]\n"
     ]
    }
   ],
   "source": [
    "hper = at.read(os.path.join(cat_dir,\"hper_rotation_moraux2013.tsv\"),data_start=3)\n",
    "print(hper.dtype)\n",
    "hper_mass = hper[\"Mass\"]\n",
    "hper_per = hper[\"Per\"]"
   ]
  },
  {
   "cell_type": "code",
   "execution_count": 96,
   "metadata": {},
   "outputs": [],
   "source": [
    "ic2391 = at.read(os.path.join(cat_dir,\"IC2391_rotation_patten1996.csv\"))\n",
    "ic2391_mass = pm_vi_mass(ic2391[\"V-I\"])\n",
    "ic2391_per = ic2391[\"Period\"]"
   ]
  },
  {
   "cell_type": "code",
   "execution_count": 97,
   "metadata": {},
   "outputs": [],
   "source": [
    "ic2602 = at.read(os.path.join(cat_dir,\"IC2602_rotation_barnes1999.csv\"))\n",
    "ic2602_mass = pm_bv_mass(ic2602[\"B-V\"])\n",
    "ic2602_per = ic2602[\"Prot\"]"
   ]
  },
  {
   "cell_type": "code",
   "execution_count": 98,
   "metadata": {},
   "outputs": [],
   "source": [
    "ngc2547 = godoy_rivera[(godoy_rivera[\"Cluster\"]==\"NGC2547\") & memb]\n",
    "ngc2547_per = ngc2547[\"Period\"]\n",
    "ngc2547_mass = ngc2547[\"Mass\"]"
   ]
  },
  {
   "cell_type": "code",
   "execution_count": 99,
   "metadata": {},
   "outputs": [],
   "source": [
    "zams = at.read(os.path.expanduser(\"~/projects/TESS_young/tab_all_stars.csv\"))\n",
    "good = zams[\"Q1\"]==0\n",
    "zams_mass = zams[\"Mass\"][good]\n",
    "zams_per = zams[\"Prot1\"][good]"
   ]
  },
  {
   "cell_type": "code",
   "execution_count": 100,
   "metadata": {},
   "outputs": [
    {
     "name": "stdout",
     "output_type": "stream",
     "text": [
      "[('name', '<U7'), ('Identifier', '<U23'), ('RA', '<f8'), ('DEC', '<f8'), ('Pmem', '<f8'), ('R mag', '<f8'), ('Ks', '<f8'), ('z', '<f8'), ('K', '<f8'), ('mass', '<f8'), ('tau', '<f8'), ('Prot', '<f8'), ('r_Prot', '<U10'), ('binary?', '<U3')]\n"
     ]
    }
   ],
   "source": [
    "alphaper = at.read(os.path.join(cat_dir,\"alphaper_rotation_alejo.csv\"))\n",
    "print(alphaper.dtype)\n",
    "good = (alphaper[\"Pmem\"]>=60)\n",
    "alphaper_per = alphaper[\"Prot\"][good]\n",
    "alphaper_mass = alphaper[\"mass\"][good]"
   ]
  },
  {
   "cell_type": "code",
   "execution_count": 101,
   "metadata": {},
   "outputs": [],
   "source": [
    "ap_old = at.read(os.path.join(cat_dir,\"alphaPer_rotation_prosser1997.tsv\"),data_start=3)\n",
    "o2 = old[\"citekey\"]==\"prosser1993\"\n",
    "\n",
    "ap_old_bv = np.append(ap_old[\"B-V\"],old[\"B-V\"][o2])\n",
    "ap_old_per = np.append(ap_old[\"Prot\"],old[\"Prot (d)\"][o2])\n",
    "ap_old_mass = np.append(pm_bv_mass(ap_old[\"B-V\"]),old[\"Mass\"][o2])"
   ]
  },
  {
   "cell_type": "code",
   "execution_count": 102,
   "metadata": {},
   "outputs": [
    {
     "name": "stdout",
     "output_type": "stream",
     "text": [
      "[('Seq', '<i8'), ('Prot', '<f8'), ('V0mag', '<f8'), ('(B-V)0', '<f8'), ('(V-I)0', '<f8'), ('o_RV', '<U2'), ('RV', '<f8'), ('e_RV', '<f8'), ('Mrv', '<U2'), ('Mpm', '<i8'), ('Mmb', '<U5'), ('W', '<f8'), ('State', '<U1'), ('Simbad', '<U6'), ('RAJ2000', '<U12'), ('DEJ2000', '<U13')]\n"
     ]
    }
   ],
   "source": [
    "m35 = at.read(os.path.join(cat_dir,\"M35_rotation_meibom2010.tsv\"),\n",
    "              delimiter=\"|\",fill_values=(\"-99\",np.nan)).filled(np.nan)\n",
    "print(m35.dtype)\n",
    "m35_solar = (m35[\"(B-V)0\"]>=sol_lim[\"B-V\"][0]) & (m35[\"(B-V)0\"]<=sol_lim[\"B-V\"][1])\n",
    "m35_per = m35[\"Prot\"]\n",
    "m35_mass = pm_bv_mass(m35[\"(B-V)0\"])"
   ]
  },
  {
   "cell_type": "code",
   "execution_count": 103,
   "metadata": {},
   "outputs": [],
   "source": [
    "pleiades = godoy_rivera[(godoy_rivera[\"Cluster\"]==\"Pleiades\") & memb]\n",
    "pleiades_per = pleiades[\"Period\"]\n",
    "pleiades_mass = pleiades[\"Mass\"]"
   ]
  },
  {
   "cell_type": "code",
   "execution_count": 104,
   "metadata": {},
   "outputs": [],
   "source": [
    "o2 = (old[\"citekey\"]==\"krishnamurthi1998\") | (old[\"citekey\"]==\"vanleeuwen1987\")\n",
    "\n",
    "plei_old_per = old[\"Prot (d)\"][o2]\n",
    "plei_old_mass = old[\"Mass\"][o2]\n",
    "plei_old_bv = old[\"B-V\"][o2]"
   ]
  },
  {
   "cell_type": "code",
   "execution_count": 148,
   "metadata": {},
   "outputs": [
    {
     "data": {
      "text/html": [
       "<i>Table length=29</i>\n",
       "<table id=\"table140614974214400-59392\" class=\"table-striped table-bordered table-condensed\">\n",
       "<thead><tr><th>idx</th><th>Name</th><th>SimbadName</th><th>Prot (d)</th><th>Population</th><th>citekey</th><th>ads_ref</th><th>Notes</th><th>V</th><th>B</th><th>B-V</th><th>Mass</th></tr></thead>\n",
       "<tr><td>0</td><td>HCG 20</td><td>Cl* Melotte 22 HCG 20</td><td>2.7</td><td>Pleiades</td><td>krishnamurthi1998</td><td>1998ApJ...493..914K</td><td>--</td><td>14.229999542236328</td><td>15.600000381469727</td><td>1.3700008392333984</td><td>0.6143236438648121</td></tr>\n",
       "<tr><td>1</td><td>HCG 71</td><td>Cl* Melotte 22 HCG 71</td><td>2.98</td><td>Pleiades</td><td>krishnamurthi1998</td><td>1998ApJ...493..914K</td><td>--</td><td>14.479999542236328</td><td>15.890000343322754</td><td>1.4100008010864258</td><td>0.5799991989135741</td></tr>\n",
       "<tr><td>2</td><td>HII 133</td><td>Cl* Melotte 22 HII 133</td><td>1.36</td><td>Pleiades</td><td>krishnamurthi1998</td><td>1998ApJ...493..914K</td><td>--</td><td>14.300000190734863</td><td>15.680000305175781</td><td>1.380000114440918</td><td>0.6062161234262827</td></tr>\n",
       "<tr><td>3</td><td>HII 191</td><td>Cl* Melotte 22 HII 191</td><td>3.1</td><td>Pleiades</td><td>krishnamurthi1998</td><td>1998ApJ...493..914K</td><td>--</td><td>nan</td><td>16.0</td><td>nan</td><td>nan</td></tr>\n",
       "<tr><td>4</td><td>HII 263</td><td>Cl* Melotte 22 HII 263</td><td>4.82</td><td>Pleiades</td><td>krishnamurthi1998</td><td>1998ApJ...493..914K</td><td>--</td><td>11.539999961853027</td><td>12.420000076293945</td><td>0.880000114440918</td><td>0.8259257563838251</td></tr>\n",
       "<tr><td>5</td><td>HII 345</td><td>Cl* Melotte 22 HII 345</td><td>0.84</td><td>Pleiades</td><td>krishnamurthi1998</td><td>1998ApJ...493..914K</td><td>--</td><td>11.461000442504883</td><td>12.288000106811523</td><td>0.8269996643066406</td><td>0.8746343100943216</td></tr>\n",
       "<tr><td>6</td><td>HII 738</td><td>Cl* Melotte 22 HII 738</td><td>0.83</td><td>Pleiades</td><td>krishnamurthi1998</td><td>1998ApJ...493..914K</td><td>--</td><td>12.40999984741211</td><td>13.520000457763672</td><td>1.1100006103515625</td><td>0.7199996948242188</td></tr>\n",
       "<tr><td>7</td><td>HII 883</td><td>Cl* Melotte 22 HII 883</td><td>7.2</td><td>Pleiades</td><td>krishnamurthi1998</td><td>1998ApJ...493..914K</td><td>--</td><td>13.020000457763672</td><td>14.140000343322754</td><td>1.119999885559082</td><td>0.7150000572204589</td></tr>\n",
       "<tr><td>8</td><td>HII 930</td><td>Cl* Melotte 22 HII 930</td><td>1.39</td><td>Pleiades</td><td>krishnamurthi1998</td><td>1998ApJ...493..914K</td><td>--</td><td>14.220000267028809</td><td>15.59000015258789</td><td>1.369999885559082</td><td>0.6143244171142578</td></tr>\n",
       "<tr><td>9</td><td>HII 1032</td><td>Cl* Melotte 22 HII 1032</td><td>1.31</td><td>Pleiades</td><td>krishnamurthi1998</td><td>1998ApJ...493..914K</td><td>--</td><td>11.100000381469727</td><td>11.850000381469727</td><td>0.75</td><td>0.9222222222222222</td></tr>\n",
       "<tr><td>10</td><td>HII 1280</td><td>Cl* Melotte 22 HII 1280</td><td>0.302</td><td>Pleiades</td><td>krishnamurthi1998</td><td>1998ApJ...493..914K</td><td>--</td><td>14.579999923706055</td><td>15.930000305175781</td><td>1.3500003814697266</td><td>0.6313040161132812</td></tr>\n",
       "<tr><td>11</td><td>HII 1305</td><td>Cl* Melotte 22 HII 1305</td><td>0.389</td><td>Pleiades</td><td>krishnamurthi1998</td><td>1998ApJ...493..914K</td><td>--</td><td>13.520000457763672</td><td>14.710000038146973</td><td>1.1899995803833008</td><td>0.6955556021796332</td></tr>\n",
       "<tr><td>12</td><td>HII 1512</td><td>Cl* Melotte 22 HII 1512</td><td>8.2</td><td>Pleiades</td><td>krishnamurthi1998</td><td>1998ApJ...493..914K</td><td>--</td><td>13.5</td><td>14.869999885559082</td><td>1.369999885559082</td><td>0.6143244171142578</td></tr>\n",
       "<tr><td>13</td><td>HII 1532</td><td>Cl* Melotte 22 HII 1532</td><td>0.78</td><td>Pleiades</td><td>krishnamurthi1998</td><td>1998ApJ...493..914K</td><td>--</td><td>13.949999809265137</td><td>15.210000038146973</td><td>1.260000228881836</td><td>0.679999885559082</td></tr>\n",
       "<tr><td>14</td><td>HII 1653</td><td>Cl* Melotte 22 HII 1653</td><td>0.74</td><td>Pleiades</td><td>krishnamurthi1998</td><td>1998ApJ...493..914K</td><td>--</td><td>13.510000228881836</td><td>14.710000038146973</td><td>1.1999998092651367</td><td>0.694444465637207</td></tr>\n",
       "<tr><td>15</td><td>HII 2786</td><td>Cl* Melotte 22 HII 2786</td><td>2.21</td><td>Pleiades</td><td>krishnamurthi1998</td><td>1998ApJ...493..914K</td><td>--</td><td>10.5</td><td>10.899999618530273</td><td>0.39999961853027344</td><td>1.4100011444091796</td></tr>\n",
       "<tr><td>16</td><td>HII 2966</td><td>Cl* Melotte 22 HII 2966</td><td>4.6</td><td>Pleiades</td><td>krishnamurthi1998</td><td>1998ApJ...493..914K</td><td>--</td><td>14.739999771118164</td><td>16.399999618530273</td><td>1.6599998474121094</td><td>0.21850017547607414</td></tr>\n",
       "<tr><td>17</td><td>HII 3197</td><td>Cl* Melotte 22 HII 3197</td><td>0.44</td><td>Pleiades</td><td>krishnamurthi1998</td><td>1998ApJ...493..914K</td><td>--</td><td>11.40999984741211</td><td>13.569999694824219</td><td>2.1599998474121094</td><td>0.08000007629394539</td></tr>\n",
       "<tr><td>18</td><td>HII 34</td><td>Cl* Melotte 22 HII 345</td><td>6.553</td><td>Pleiades</td><td>vanleeuwen1987</td><td>1987A%26AS...67..483V</td><td>--</td><td>11.461000442504883</td><td>12.288000106811523</td><td>0.8269996643066406</td><td>0.8746343100943216</td></tr>\n",
       "<tr><td>19</td><td>HII 625</td><td>Cl* Melotte 22 HII 625</td><td>0.4282</td><td>Pleiades</td><td>vanleeuwen1987</td><td>1987A%26AS...67..483V</td><td>--</td><td>12.569999694824219</td><td>13.670000076293945</td><td>1.1000003814697266</td><td>0.7249998092651367</td></tr>\n",
       "<tr><td>20</td><td>HII 686</td><td>Cl* Melotte 22 HII 686</td><td>0.39653</td><td>Pleiades</td><td>vanleeuwen1987</td><td>1987A%26AS...67..483V</td><td>--</td><td>13.359999656677246</td><td>14.630000114440918</td><td>1.2700004577636719</td><td>0.674999771118164</td></tr>\n",
       "<tr><td>21</td><td>HII 727</td><td>Cl* Melotte 22 HII 727</td><td>8.07</td><td>Pleiades</td><td>vanleeuwen1987</td><td>1987A%26AS...67..483V</td><td>--</td><td>9.899999618530273</td><td>10.600000381469727</td><td>0.7000007629394531</td><td>0.9699984741210936</td></tr>\n",
       "<tr><td>22</td><td>HII 879</td><td>Cl* Melotte 22 HII 879</td><td>7.386</td><td>Pleiades</td><td>vanleeuwen1987</td><td>1987A%26AS...67..483V</td><td>--</td><td>12.760000228881836</td><td>13.819999694824219</td><td>1.0599994659423828</td><td>0.7450002670288086</td></tr>\n",
       "<tr><td>23</td><td>HII 882</td><td>Cl* Melotte 22 HII 882</td><td>0.5798</td><td>Pleiades</td><td>vanleeuwen1987</td><td>1987A%26AS...67..483V</td><td>--</td><td>12.65999984741211</td><td>13.729999542236328</td><td>1.0699996948242188</td><td>0.7400001525878906</td></tr>\n",
       "<tr><td>24</td><td>HII 1124</td><td>Cl* Melotte 22 HII 1124</td><td>6.051</td><td>Pleiades</td><td>vanleeuwen1987</td><td>1987A%26AS...67..483V</td><td>--</td><td>12.130000114440918</td><td>13.039999961853027</td><td>0.9099998474121094</td><td>0.8101887368256191</td></tr>\n",
       "<tr><td>25</td><td>HII 1332</td><td>Cl* Melotte 22 HII 1332</td><td>8.3</td><td>Pleiades</td><td>vanleeuwen1987</td><td>1987A%26AS...67..483V</td><td>--</td><td>12.40999984741211</td><td>13.449999809265137</td><td>1.0399999618530273</td><td>0.7550000190734864</td></tr>\n",
       "<tr><td>26</td><td>HII 1531</td><td>Cl* Melotte 22 HII 1531</td><td>0.483</td><td>Pleiades</td><td>vanleeuwen1987</td><td>1987A%26AS...67..483V</td><td>--</td><td>13.579999923706055</td><td>14.850000381469727</td><td>1.2700004577636719</td><td>0.674999771118164</td></tr>\n",
       "<tr><td>27</td><td>HII 2034</td><td>Cl* Melotte 22 HII 2034</td><td>0.5516</td><td>Pleiades</td><td>vanleeuwen1987</td><td>1987A%26AS...67..483V</td><td>--</td><td>12.649999618530273</td><td>13.609999656677246</td><td>0.9600000381469727</td><td>0.7913207403218971</td></tr>\n",
       "<tr><td>28</td><td>HII 3163</td><td>Cl* Melotte 22 HII 3163</td><td>0.4178</td><td>Pleiades</td><td>vanleeuwen1987</td><td>1987A%26AS...67..483V</td><td>--</td><td>12.6899995803833</td><td>13.670000076293945</td><td>0.9800004959106445</td><td>0.7837733977695681</td></tr>\n",
       "</table><style>table.dataTable {clear: both; width: auto !important; margin: 0 !important;}\n",
       ".dataTables_info, .dataTables_length, .dataTables_filter, .dataTables_paginate{\n",
       "display: inline-block; margin-right: 1em; }\n",
       ".paginate_button { margin-right: 5px; }\n",
       "</style>\n",
       "<script>\n",
       "\n",
       "var astropy_sort_num = function(a, b) {\n",
       "    var a_num = parseFloat(a);\n",
       "    var b_num = parseFloat(b);\n",
       "\n",
       "    if (isNaN(a_num) && isNaN(b_num))\n",
       "        return ((a < b) ? -1 : ((a > b) ? 1 : 0));\n",
       "    else if (!isNaN(a_num) && !isNaN(b_num))\n",
       "        return ((a_num < b_num) ? -1 : ((a_num > b_num) ? 1 : 0));\n",
       "    else\n",
       "        return isNaN(a_num) ? -1 : 1;\n",
       "}\n",
       "\n",
       "require.config({paths: {\n",
       "    datatables: 'https://cdn.datatables.net/1.10.12/js/jquery.dataTables.min'\n",
       "}});\n",
       "require([\"datatables\"], function(){\n",
       "    console.log(\"$('#table140614974214400-59392').dataTable()\");\n",
       "    \n",
       "jQuery.extend( jQuery.fn.dataTableExt.oSort, {\n",
       "    \"optionalnum-asc\": astropy_sort_num,\n",
       "    \"optionalnum-desc\": function (a,b) { return -astropy_sort_num(a, b); }\n",
       "});\n",
       "\n",
       "    $('#table140614974214400-59392').dataTable({\n",
       "        order: [],\n",
       "        pageLength: 50,\n",
       "        lengthMenu: [[10, 25, 50, 100, 500, 1000, -1], [10, 25, 50, 100, 500, 1000, 'All']],\n",
       "        pagingType: \"full_numbers\",\n",
       "        columnDefs: [{targets: [0, 3, 8, 9, 10, 11], type: \"optionalnum\"}]\n",
       "    });\n",
       "});\n",
       "</script>\n"
      ],
      "text/plain": [
       "<IPython.core.display.HTML object>"
      ]
     },
     "execution_count": 148,
     "metadata": {},
     "output_type": "execute_result"
    }
   ],
   "source": [
    "old[o2].show_in_notebook()"
   ]
  },
  {
   "cell_type": "code",
   "execution_count": 105,
   "metadata": {},
   "outputs": [],
   "source": [
    "m50 = godoy_rivera[(godoy_rivera[\"Cluster\"]==\"M50\") & memb]\n",
    "m50_per = m50[\"Period\"]\n",
    "m50_mass = m50[\"Mass\"]"
   ]
  },
  {
   "cell_type": "code",
   "execution_count": 106,
   "metadata": {},
   "outputs": [],
   "source": [
    "ngc2516 = godoy_rivera[(godoy_rivera[\"Cluster\"]==\"NGC 2516\") & memb]\n",
    "ngc2516_per = ngc2516[\"Period\"]\n",
    "ngc2516_mass = ngc2516[\"Mass\"]"
   ]
  },
  {
   "cell_type": "code",
   "execution_count": 107,
   "metadata": {},
   "outputs": [
    {
     "name": "stdout",
     "output_type": "stream",
     "text": [
      "[('Seq', '<U3'), ('RAJ2000', '<U11'), ('DEJ2000', '<U11'), ('Prot', '<U5'), ('V0mag', '<U5'), ('(B-V)0', '<U5'), ('o_RVel', '<U2'), ('RVel', '<U5'), ('e_RVel', '<U4'), ('PRV', '<U2'), ('PPM', '<U2'), ('Mm', '<U2'), ('Rot', '<U1'), ('JP96', '<U3')]\n"
     ]
    }
   ],
   "source": [
    "m34meibom = at.read(os.path.join(cat_dir,\"m34_rotation_meibom2011.tsv\"))\n",
    "print(m34meibom.dtype)\n",
    "m34meibom_mass = pm_bv_mass(np.asarray(m34meibom[\"(B-V)0\"][2:],np.float32))\n",
    "m34meibom_per = np.asarray(m34meibom[\"Prot\"][2:],np.float32)"
   ]
  },
  {
   "cell_type": "code",
   "execution_count": 108,
   "metadata": {},
   "outputs": [
    {
     "name": "stdout",
     "output_type": "stream",
     "text": [
      "[('M34', '<U6'), ('RAJ2000', '<U11'), ('DEJ2000', '<U11'), ('Vmag', '<U5'), ('Rcmag', '<U5'), ('Icmag', '<U5'), ('Hamag', '<U5'), ('Per', '<U6'), ('n_Per', '<U1'), ('AV', '<U6'), ('AI', '<U6'), ('Mass', '<U7'), ('Rad', '<U6'), ('JP', '<U3'), ('vsini', '<U4')]\n"
     ]
    }
   ],
   "source": [
    "m34 = at.read(os.path.join(cat_dir,\"m34_rotation_irwin2006.tsv\"))\n",
    "print(m34.dtype)\n",
    "m34_mass = np.asarray(m34[\"Mass\"][2:],np.float32)\n",
    "m34_per = np.asarray(m34[\"Per\"][2:],np.float32)\n",
    "# print(m34_mass,m34_per)"
   ]
  },
  {
   "cell_type": "code",
   "execution_count": 109,
   "metadata": {},
   "outputs": [],
   "source": [
    "ngc3532 = at.read(os.path.join(cat_dir,\"ngc3532_rotation_fritzewski2021.dat\"),\n",
    "                  data_start=3)\n",
    "ngc3532_per = ngc3532[\"Prot\"]\n",
    "ngc3532_mass = pm_bv_mass(ngc3532[\"(B-V)0\"])"
   ]
  },
  {
   "cell_type": "code",
   "execution_count": 110,
   "metadata": {},
   "outputs": [
    {
     "name": "stdout",
     "output_type": "stream",
     "text": [
      "[('1SWASP', '<U19'), ('Season', '<i8'), ('Field_cam', '<U15'), ('Nobs', '<i8'), ('Period(days)', '<f8'), ('Period2(days)', '<f8'), ('Half?', '<U1'), ('Amplitude(mag)', '<f8'), ('SpT', '<U2'), ('J-K', '<f8')]\n"
     ]
    }
   ],
   "source": [
    "coma = at.read(os.path.join(cat_dir,\"comaber_rotation_colliercameron2009_consolidated.csv\"))\n",
    "print(coma.dtype)\n",
    "coma_per = coma[\"Period(days)\"]\n",
    "coma_mass = kh_jk_mass(coma[\"J-K\"])"
   ]
  },
  {
   "cell_type": "code",
   "execution_count": 111,
   "metadata": {},
   "outputs": [
    {
     "name": "stdout",
     "output_type": "stream",
     "text": [
      "[('OID', '<i8'), ('RAJ2000', '<f8'), ('DEJ2000', '<f8'), ('gmag', '<f8'), ('rmag', '<f8'), ('imag', '<f8'), ('Per', '<f8'), ('f_Per', '<f8'), ('Ps', '<f8'), ('Pb', '<f8'), ('Pmem', '<f8'), ('Mass', '<f8'), ('tau', '<f8'), ('Lbol', '<f8'), ('XID', '<i8'), ('O-X', '<f8'), ('ME08', '<i8'), ('oME08', '<f8'), ('OName', '<i8')]\n"
     ]
    }
   ],
   "source": [
    "m37 = at.read(os.path.join(cat_dir,\"M37_rotation_nunez2015_clean.tsv\"),\n",
    "             delimiter=\"|\")\n",
    "solar37 = (m37[\"Mass\"]>=sol_lim[\"mass\"][0]) & (m37[\"Mass\"]<=sol_lim[\"mass\"][1])\n",
    "m37_per = m37[\"Per\"]#[solar37]\n",
    "print(m37.dtype)\n",
    "m37_mass = m37[\"Mass\"]"
   ]
  },
  {
   "cell_type": "code",
   "execution_count": 112,
   "metadata": {},
   "outputs": [
    {
     "name": "stdout",
     "output_type": "stream",
     "text": [
      "[('X', '<i8'), ('KIC', '<i8'), ('Mm', '<U1'), ('JJ', '<i8'), ('Dist', '<f8'), ('RAJ2000', '<U8'), ('DEJ2000', '<U9'), ('Cad', '<U1'), ('kepmag', '<f8'), ('logTe', '<f8'), ('logL', '<f8'), ('f1', '<f8'), ('Amp', '<f8')]\n"
     ]
    }
   ],
   "source": [
    "ngc6866 = at.read(os.path.join(cat_dir,\"ngc6866_rotation_balona2013.tsv\"),\n",
    "             delimiter=\"|\")\n",
    "print(ngc6866.dtype)\n",
    "solar6866 = (ngc6866[\"logTe\"]>=sol_lim[\"logTeff\"][0]) & (ngc6866[\"logTe\"]<=sol_lim[\"logTeff\"][1])\n",
    "ngc6866_per = 2 * np.pi / ngc6866[\"f1\"]\n",
    "ngc6866_mass = kh_teff_mass(10**ngc6866[\"logTe\"])"
   ]
  },
  {
   "cell_type": "code",
   "execution_count": 113,
   "metadata": {},
   "outputs": [],
   "source": [
    "# PRAESEPE \n",
    "praesepe = curtis[curtis[\"Cluster\"]==\"Praesepe\"]\n",
    "praesepe_per = praesepe[\"Prot\"]\n",
    "praesepe_mass = kh_teff_mass(praesepe[\"Teff\"])"
   ]
  },
  {
   "cell_type": "code",
   "execution_count": 114,
   "metadata": {},
   "outputs": [],
   "source": [
    "# PRAESEPE \n",
    "prae1 = at.read(os.path.join(cat_dir,\"Praesepe_Periods_Douglas2017_Tab3_mrt.dat\"))\n",
    "prae2 = at.read(os.path.join(cat_dir,\"Praesepe_Periods_Douglas2019_Tab4_mrt.txt\"))\n",
    "prae3 = at.read(os.path.join(cat_dir,\"Praesepe_rotation_Rampalli_2021.csv\"))\n",
    "\n",
    "sub1 = prae1[\"EPIC\",\"Prot1\",\"Prot-Flag\",\"PTF-Prot\",\"SWASP-Prot\",\"Scholz-Prot\",\"Kovacs-Prot\"]\n",
    "prae = table.join(prae2[prae2[\"EPIC\"].mask==False],sub1)\n",
    "prae_mass = kh_teff_mass(np.asarray(prae[\"Teff\"]))\n",
    "\n",
    "prae[\"Prot_Year\"] = np.ones(len(prae))*9999\n",
    "prae[\"Prot_Year\"][prae[\"Prot-Flag\"]==\"2\"] = 2017\n",
    "prae[\"Prot_Year\"][prae[\"Prot-Flag\"]==\"K\"] = 2014\n",
    "prae[\"Prot_Year\"][prae[\"Prot-Flag\"]==\"D\"] = 2011\n",
    "prae[\"Prot_Year\"][prae[\"Prot-Flag\"]==\"P\"] = 2011\n",
    "prae[\"Prot_Year\"][prae[\"Prot-Flag\"]==\"S\"] = 2007\n",
    "prae_year = prae[\"Prot_Year\"]\n",
    "\n",
    "prae_per = prae[\"Prot1\"]\n",
    "for colname in [\"Kovacs-Prot\",\"SWASP-Prot\",\"PTF-Prot\",\"Scholz-Prot\"]:\n",
    "    need_per = (prae_per.mask==False) & (prae[colname].mask==False)\n",
    "    prae_per[need_per] = prae[colname][need_per]\n",
    "    prae_per.mask[need_per] = False\n",
    "\n",
    "k2_new = (prae3[\"Prot\"]>0) & (prae3[\"PreviousProt\"].mask==True) #& (prae3[\"PreviousProt\"]<0)\n",
    "prae_per3 = prae3[\"Prot\"][k2_new]\n",
    "prae_mass3 = kh_teff_mass(np.asarray(prae3[\"Teff\"][k2_new]))"
   ]
  },
  {
   "cell_type": "code",
   "execution_count": 115,
   "metadata": {},
   "outputs": [],
   "source": [
    "# HYADES\n",
    "hfile1 = at.read(os.path.join(cat_dir,\"Hyades_Periods_Douglas2016_Tab4_mrt.dat\"))\n",
    "hfile2 = at.read(os.path.join(cat_dir,\"Hyades_Periods_Douglas2019_Tab3_mrt.txt\"))\n",
    "\n",
    "hfile2[\"Prot_Year\"] = np.ones(len(hfile2))*9999\n",
    "hfile2[\"Prot_Year\"][hfile2[\"Prot1\"].mask==False] = 2019\n",
    "hfile2[\"Prot_Year\"][hfile2[\"Prot4\"].mask==False] = 2016\n",
    "hfile2[\"Prot_Year\"][hfile2[\"ProtA\"].mask==False] = 2014\n",
    "hfile2[\"Prot_Year\"][hfile2[\"ProtH\"].mask==False] = 2011\n",
    "hfile2[\"Prot_Year\"][hfile2[\"ProtD\"].mask==False] = 2011\n",
    "hfile2[\"Prot_Year\"][hfile2[\"ProtP\"].mask==False] = 1995\n",
    "hfile2[\"Prot_Year\"][hfile2[\"ProtR\"].mask==False] = 1987\n",
    "\n",
    "hyad_mass = hfile2[\"Mass\"]\n",
    "hyad_per = hfile2[\"Prot1\"]\n",
    "hyad_year = hfile2[\"Prot_Year\"]\n",
    "for colname in [\"Prot4\",\"ProtA\",\"ProtH\",\"ProtD\",\"ProtP\",\"ProtR\"]:\n",
    "    need_per = (hyad_per.mask==True) & (hfile2[colname].mask==False)\n",
    "    hyad_per[need_per] = hfile2[colname][need_per]\n",
    "    hyad_per.mask[need_per] = False"
   ]
  },
  {
   "cell_type": "code",
   "execution_count": 116,
   "metadata": {},
   "outputs": [],
   "source": [
    "ngc6811 = curtis[curtis[\"Cluster\"]==\"NGC 6811\"]\n",
    "ngc6811_per = ngc6811[\"Prot\"]\n",
    "ngc6811_mass = kh_teff_mass(ngc6811[\"Teff\"])"
   ]
  },
  {
   "cell_type": "code",
   "execution_count": 117,
   "metadata": {},
   "outputs": [],
   "source": [
    "ngc752 = curtis[curtis[\"Cluster\"]==\"NGC 752\"]\n",
    "ngc752_per = ngc752[\"Prot\"]\n",
    "ngc752_mass = kh_teff_mass(ngc752[\"Teff\"])"
   ]
  },
  {
   "cell_type": "code",
   "execution_count": 118,
   "metadata": {},
   "outputs": [],
   "source": [
    "rup147 = curtis[curtis[\"Cluster\"]==\"Ruprecht 147\"]\n",
    "rup147_per = rup147[\"Prot\"]\n",
    "rup147_mass = kh_teff_mass(rup147[\"Teff\"])"
   ]
  },
  {
   "cell_type": "code",
   "execution_count": 119,
   "metadata": {},
   "outputs": [],
   "source": [
    "ngc6819 = curtis[curtis[\"Cluster\"]==\"NGC 6819\"]\n",
    "ngc6819_per = ngc6819[\"Prot\"]\n",
    "ngc6819_mass = kh_teff_mass(ngc6819[\"Teff\"])"
   ]
  },
  {
   "cell_type": "code",
   "execution_count": 120,
   "metadata": {},
   "outputs": [
    {
     "name": "stdout",
     "output_type": "stream",
     "text": [
      "[('EPIC', '<i8'), ('IDW', '<i8'), ('B - V', '<f8'), ('V', '<f8'), ('P', '<f8'), ('P_err', '<f8'), ('Groups', '<U5'), ('Member', '<U2'), ('Comment', '<U24')]\n"
     ]
    }
   ],
   "source": [
    "m67 = at.read(os.path.join(cat_dir,\"M67_rotation_barnes2017.txt\"),delimiter=\"\\t\")\n",
    "print(m67.dtype)\n",
    "m67_per = m67[\"P\"]\n",
    "m67_mass = pm_bv_mass(m67[\"B - V\"])"
   ]
  },
  {
   "cell_type": "code",
   "execution_count": 121,
   "metadata": {},
   "outputs": [],
   "source": [
    "m67_2 = at.read(os.path.join(cat_dir,\"m67_rotation_dungee2022.csv\"))\n",
    "m67_per2 = m67_2[\"prot\"]\n",
    "m67_mass2 = kh_teff_mass(m67_2[\"teff\"])"
   ]
  },
  {
   "cell_type": "code",
   "execution_count": 122,
   "metadata": {},
   "outputs": [
    {
     "name": "stdout",
     "output_type": "stream",
     "text": [
      "[('Type', '<U1'), ('2MASS', '<U16'), ('LSPM', '<U10'), ('RAJ2000', '<f8'), ('DEJ2000', '<f8'), ('pmRA', '<f8'), ('pmDE', '<f8'), ('plx', '<f8'), ('e_plx', '<f8'), ('r_plx', '<U19'), ('Dist', '<f8'), ('RV', '<f8'), ('e_RV', '<f8'), ('r_RV', '<U19'), ('Per', '<f8'), ('Amp', '<f8'), ('e_Amp', '<f8'), ('M*', '<f8'), ('R*', '<f8'), ('Flag', '<i8'), ('NPts', '<i8'), ('NDays', '<i8'), ('magerr', '<f8'), ('F-test', '<i8'), ('Simbad', '<U6')]\n"
     ]
    }
   ],
   "source": [
    "mearth = at.read(os.path.join(cat_dir,\"mearth_rotation_newton2018.tsv\"),data_start=3)\n",
    "print(mearth.dtype)\n",
    "good = (mearth[\"Type\"]==\"A\") | (mearth[\"Type\"]==\"B\")\n",
    "mearth_per = np.asarray(mearth[\"Per\"][good],np.float32)\n",
    "# mearth_mass = np.asarray(mearth[\"Mass\"][good],np.float32)\n",
    "mearth_mass = np.asarray(mearth[\"M*\"][good],np.float32)"
   ]
  },
  {
   "cell_type": "code",
   "execution_count": 123,
   "metadata": {},
   "outputs": [
    {
     "name": "stdout",
     "output_type": "stream",
     "text": [
      "[('_RAJ2000', '<f8'), ('_DEJ2000', '<f8'), ('KIC', '<i8'), ('Teff', '<i8'), ('logg', '<f8'), ('f_logg', '<U1'), ('Mass', '<f8'), ('Per', '<f8'), ('e_Per', '<f8'), ('Amp', '<f8'), ('Flag', '<U2'), ('_RA', '<f8'), ('_DE', '<f8')]\n",
      "[('_RAJ2000', '<f8'), ('_DEJ2000', '<f8'), ('KIC', '<i8'), ('Teff', '<i8'), ('log(g)', '<f8'), ('Mass', '<f8'), ('Prot', '<f8'), ('e_Prot', '<f8'), ('n_Prot', '<U3'), ('Rper', '<f8'), ('LPH', '<f8'), ('w', '<f8'), ('Ref', '<i8'), ('_RA', '<f8'), ('_DE', '<f8')]\n"
     ]
    }
   ],
   "source": [
    "kepler1 = at.read(os.path.join(cat_dir,\"field_M_rotation_mcquillan2013.tsv\"),data_start=3)\n",
    "kepler2 = at.read(os.path.join(cat_dir,\"field_rotation_mcquillan2014.tsv\"),data_start=3)\n",
    "print(kepler1.dtype)\n",
    "print(kepler2.dtype)\n",
    "kep_mass = np.append(np.asarray(kepler1[\"Mass\"][2:],np.float32),np.asarray(kepler2[\"Mass\"][2:],np.float32))\n",
    "kep_per = np.append(np.asarray(kepler1[\"Per\"][2:],np.float32),np.asarray(kepler2[\"Prot\"][2:],np.float32))"
   ]
  },
  {
   "cell_type": "code",
   "execution_count": 124,
   "metadata": {},
   "outputs": [
    {
     "name": "stdout",
     "output_type": "stream",
     "text": [
      "[('Name', '<U10'), ('B-V', '<f8'), (\"log<R'HK>\", '<f8'), ('<Prot>', '<i8'), ('n_<Prot>', '<U1'), ('RAJ2000', '<f8'), ('DEJ2000', '<f8'), ('TYC1', '<i8'), ('TYC2', '<i8'), ('TYC3', '<i8'), ('HIP', '<i8'), ('SpT', '<U18'), ('r_SpT', '<U19'), ('MKCat', '<U5'), ('Simbad', '<U6')]\n"
     ]
    }
   ],
   "source": [
    "baliunas = at.read(os.path.join(cat_dir,\"field_rotation_baliunas1996.tsv\"),data_start=3)\n",
    "print(baliunas.dtype)\n",
    "bins = np.linspace(0.4,1.0,10)\n",
    "baliunas[\"Population\"] = np.full(len(baliunas),\"Old\",dtype=\"U6\")\n",
    "baliunas[\"Population\"][baliunas[\"<Prot>\"]<30]=\"Young\"\n",
    "for i in range(len(bins)-1):\n",
    "    loc = (baliunas[\"B-V\"]>bins[i]) & (baliunas[\"B-V\"]<=bins[i+1])\n",
    "    avg = np.nanmedian(baliunas[\"<Prot>\"][loc])\n",
    "    baliunas[\"Population\"][loc & (baliunas[\"<Prot>\"]>avg)] = \"Old\""
   ]
  },
  {
   "cell_type": "code",
   "execution_count": null,
   "metadata": {},
   "outputs": [],
   "source": []
  },
  {
   "cell_type": "markdown",
   "metadata": {
    "collapsed": true
   },
   "source": [
    "# Demonstrate rotation evolution in one figure\n",
    "\n",
    "Solid points are NOW from Godoy-Rivera (and I'm now adding Curtis 2020); open points need membership analysis\n",
    "\n",
    "Blue was for things newer than Gallet & Bouvier; making that black for more general use"
   ]
  },
  {
   "cell_type": "code",
   "execution_count": 125,
   "metadata": {},
   "outputs": [],
   "source": [
    "# def plot_evolution(max_year=2023):\n",
    "\n",
    "#     nrows,ncols = 6,3\n",
    "#     fig, axes_orig = plt.subplots(nrows=nrows,ncols=ncols,sharex=True,sharey=True,figsize=(13,9))\n",
    "#     axes = axes_orig.T.flatten()\n",
    "#     print(axes)\n",
    "\n",
    "#     cluster_fontsize = 12\n",
    "#     textx0, texty0 = 1.25, 20 #22\n",
    "\n",
    "#     # gr_color = \"C1\"\n",
    "#     gb_color = \"k\"\n",
    "#     sg_color = \"k\"\n",
    "#     new_color = \"k\"# \"C0\"\n",
    "\n",
    "#     # ms=1.5\n",
    "\n",
    "#     grc_params = {\"ms\":2}\n",
    "#     need_params = {\"ms\":3,\"mfc\":\"none\",\"mew\":0.75}\n",
    "    \n",
    "#     fig.suptitle(f\"1987-{max_year}\",y=0.92)\n",
    "\n",
    "\n",
    "\n",
    "#     # Col 1 - PMS/ZAMS\n",
    "#     c = 0\n",
    "#     # ONC/NGC 6530\n",
    "#     if max_year>=2002:\n",
    "#         axes[0+c].plot(onc_mass,onc_per,'o',color=new_color,**need_params)\n",
    "#     if max_year>=2012:\n",
    "#         axes[0+c].plot(ngc6530_mass,ngc6530_per,'o',color=new_color,**need_params)\n",
    "#     axes[0+c].text(textx0,texty0,\"ONC (1-3 Myr), NGC 6530 (1-2 Myr)\",fontsize=cluster_fontsize,color=new_color)\n",
    "\n",
    "#     if max_year>=2008:\n",
    "#         axes[1+c].plot(ngc2362_mass,ngc2362_per,'o',color=gb_color,**need_params)\n",
    "#     axes[1+c].text(textx0,texty0,\"NGC 2362 (5 Myr)\",fontsize=cluster_fontsize,color=new_color)\n",
    "\n",
    "#     if max_year>2018:\n",
    "#         axes[2+c].plot(usco_mass,usco_per,'o',color=new_color,**need_params)\n",
    "#     axes[2+c].text(textx0,texty0,\"USco (8-11 Myr)\",fontsize=cluster_fontsize,color=new_color)\n",
    "\n",
    "#     if max_year>=2013:\n",
    "#         axes[3+c].plot(hper_mass,hper_per,'o',color=gb_color,**need_params)\n",
    "#     axes[3+c].text(textx0,texty0,\"h Per (13 Myr)\",fontsize=cluster_fontsize,color=gb_color)\n",
    "\n",
    "#     if max_year>=2023:\n",
    "#         axes[4+c].plot(zams_mass, zams_per, 'o',color=new_color,**need_params)\n",
    "#     elif max_year>=2008:\n",
    "#         axes[4+c].plot(ngc2547_mass,ngc2547_per,'o',ms=3,color=gb_color,mfc=\"none\",mew=0.75)\n",
    "#         lit = zams[\"LitPeriod\"].mask==False\n",
    "#         axes[4+c].plot(zams[\"Mass\"][lit],zams[\"LitPeriod\"][lit],'o',ms=3,color=gb_color,mfc=\"none\",mew=0.75)\n",
    "#     else:\n",
    "#         # For now, just replicating Barnes 2003\n",
    "#         axes[4+c].plot(ic2391_mass, ic2391_per, 'o',color=new_color,**need_params)\n",
    "#         axes[4+c].plot(ic2602_mass, ic2602_per, 'o',color=new_color,**need_params)\n",
    "        \n",
    "#     axes[4+c].text(textx0,texty0,\"NGC 2547 (50 Myr), \",fontsize=cluster_fontsize)\n",
    "#     axes[4+c].text(textx0-0.65,texty0,\"TESS periods\",fontsize=cluster_fontsize,color=new_color)\n",
    "\n",
    "\n",
    "#     split = 0.7\n",
    "#     if max_year>=2023:\n",
    "#         axes[5+c].plot(alphaper_mass[alphaper_mass<split],alphaper_per[alphaper_mass<split],'o',color=new_color,**need_params)\n",
    "#         axes[5+c].plot(alphaper_mass[alphaper_mass>=split],alphaper_per[alphaper_mass>=split],'o',color=gb_color,**need_params)\n",
    "#     else:\n",
    "#         # For now, just replicating Barnes 2003\n",
    "#         axes[5+c].plot(ap_old_mass, ap_old_per, 'o',color=new_color,**need_params)\n",
    "#     axes[5+c].text(textx0,texty0,\"Alpha Persei (71 Myr)\",fontsize=cluster_fontsize,color=new_color)\n",
    "\n",
    "\n",
    "#     # Col 2 - early MS OCs\n",
    "#     c = 1*nrows\n",
    "#     if max_year>=2016:\n",
    "#         axes[0+c].plot(pleiades_mass,pleiades_per,'o',color=gb_color,**need_params)\n",
    "#     else:\n",
    "#         # For now, just replicating Barnes 2003\n",
    "#         axes[0+c].plot(plei_old_mass, plei_old_per, 'o',color=new_color,**need_params)\n",
    "#     axes[0+c].text(textx0,texty0,\"Pleiades (125 Myr)\",fontsize=cluster_fontsize,color=gb_color)\n",
    "\n",
    "\n",
    "# #     if max_year>=:\n",
    "# #         axes[1+c].plot(ngc2516_mass,ngc2516_per,'o',color=gb_color,**grc_params)\n",
    "# #     if max_year>=:\n",
    "# #         axes[1+c].plot(m50_mass,m50_per,'o',color=gb_color,**grc_params)\n",
    "#     if max_year>=2009:\n",
    "#         axes[1+c].plot(m35_mass,m35_per,'o',color=gb_color,**need_params)\n",
    "#     axes[1+c].text(textx0,texty0,\"M35, NGC 2516, M50 (150 Myr)\",fontsize=cluster_fontsize,color=gb_color)\n",
    "\n",
    "\n",
    "#     if max_year>=2006:\n",
    "#         axes[2+c].plot(m34_mass,m34_per,'o',color=new_color,**need_params)\n",
    "#     if max_year>=2011:\n",
    "#         axes[2+c].plot(m34meibom_mass,m34meibom_per,'o',color=gb_color,**need_params)\n",
    "#     axes[2+c].text(textx0,texty0,\"M34 (200 Myr)\",fontsize=cluster_fontsize,color=new_color)\n",
    "\n",
    "#     if max_year>=2021:\n",
    "#         axes[3+c].plot(ngc3532_mass,ngc3532_per,'o',color=new_color,**need_params)\n",
    "#     axes[3+c].text(textx0,texty0,\"NGC 3532 (300 Myr)\",fontsize=cluster_fontsize,color=new_color)\n",
    "\n",
    "#     if max_year>=2015:\n",
    "#         axes[4+c].plot(m37_mass,m37_per,'o',color=gb_color,**grc_params)\n",
    "#     axes[4+c].text(textx0,texty0,\"M37 (550 Myr)\",fontsize=cluster_fontsize,color=gb_color)\n",
    "\n",
    "#     if max_year>=2009:\n",
    "#         axes[5+c].plot(coma_mass,coma_per,'o',color=new_color,**need_params)\n",
    "#     else:\n",
    "#         cb = old[\"citekey\"]==\"radick1990\"\n",
    "#         axes[5+c].plot(old[\"Mass\"][cb],old[\"Prot (d)\"][cb],'o',color=new_color,**need_params)\n",
    "#     axes[5+c].text(textx0,texty0,\"Coma Ber (600 Myr)\",fontsize=cluster_fontsize,color=new_color)\n",
    "\n",
    "\n",
    "#     # old OCs, Sun, field\n",
    "#     textx1, texty1 = 1.25, 0.15\n",
    "#     c=2*nrows\n",
    "\n",
    "#     # TODO: distinguish my periods from the old ones\n",
    "#     # TODO: add hyades periods\n",
    "# #     axes[0+c].plot(praesepe_mass,praesepe_per,'o',color=gb_color,**grc_params)\n",
    "#     if max_year>=2007:\n",
    "#         to_plot = prae_year<=max_year\n",
    "#         axes[0+c].plot(prae_mass[to_plot],prae_per[to_plot],'o',color=gb_color,**grc_params)\n",
    "#     if max_year>=2019:\n",
    "#         axes[0+c].plot(prae_mass3,prae_per3,'o',color=gb_color,**grc_params)\n",
    "#     axes[0+c].text(textx0,texty0,\"Praesepe (790 Myr)\",fontsize=cluster_fontsize)\n",
    "\n",
    "#     # axes[1+c].plot(hyades_mass,hyades_per,'ko',ms=3)\n",
    "#     if max_year>=1987:\n",
    "#         to_plot = hyad_year<=max_year\n",
    "#         axes[1+c].plot(hyad_mass[to_plot],hyad_per[to_plot],'o',color=gb_color,**grc_params)\n",
    "#     axes[1+c].text(textx0,texty0,\"Hyades (830 Myr)\",fontsize=cluster_fontsize)\n",
    "\n",
    "#     split = 0.9\n",
    "#     if max_year>=2011:\n",
    "#         axes[2+c].plot(ngc6811_mass[ngc6811_mass>=split], ngc6811_per[ngc6811_mass>=split], \n",
    "#                    'o',color=gb_color,**grc_params)\n",
    "#     if max_year>=2020:\n",
    "#         axes[2+c].plot(ngc6811_mass[ngc6811_mass<split], ngc6811_per[ngc6811_mass<split], \n",
    "#                    'o',color=gb_color,**grc_params)\n",
    "#     axes[2+c].text(textx1,texty1*1.2,\"NGC 6811 (1 Gyr)\",fontsize=cluster_fontsize,color=new_color)\n",
    "\n",
    "#     if max_year>=2020:\n",
    "#         axes[3+c].plot(rup147_mass, rup147_per, 'o',color=new_color,**grc_params)\n",
    "#     if max_year>=2015:\n",
    "#         axes[3+c].plot(ngc6819_mass[ngc6819_mass>=split], ngc6819_per[ngc6819_mass>=split], \n",
    "#                   'o',color=gb_color,**grc_params)\n",
    "#     if max_year>=2020:\n",
    "#         axes[3+c].plot(ngc6819_mass[ngc6819_mass<split], ngc6819_per[ngc6819_mass<split], \n",
    "#                   'o',color=new_color,**grc_params)\n",
    "#     axes[3+c].text(textx1,texty1*1.2,\"NGC 6819, Rup 147 (2.5 Gyr)\",fontsize=cluster_fontsize,color=new_color)\n",
    "\n",
    "\n",
    "#     if max_year>=2016:\n",
    "#         axes[4+c].plot(m67_mass, m67_per,'o',color=new_color,**need_params)\n",
    "#     if max_year>=2022:\n",
    "#         axes[4+c].plot(m67_mass2, m67_per2, 'o',color=new_color,**need_params)\n",
    "#     axes[4+c].plot([1.0],[27],'ko',ms=2)\n",
    "#     axes[4+c].plot([1.0],[27],'ko',ms=6,mfc=\"none\")\n",
    "#     axes[4+c].text(textx1,texty1*1.2,\"M67 (4 Gyr), \",fontsize=cluster_fontsize,color=new_color)\n",
    "#     axes[4+c].text(textx1-0.45,texty1*1.2,\"Sun (4.5 Gyr)\",fontsize=cluster_fontsize,color=gb_color)\n",
    "\n",
    "\n",
    "#     if max_year>=2015:\n",
    "#         axes[5+c].plot(mearth_mass,mearth_per,'o',color=\"Grey\",alpha=0.5,ms=2)\n",
    "#     if max_year>=2013:\n",
    "#         axes[5+c].plot(kep_mass,kep_per,'.',ms=1,alpha=0.2,color=\"Grey\")\n",
    "#     axes[5+c].text(textx1,texty1,\"Field Stars\",fontsize=cluster_fontsize)\n",
    "\n",
    "#     axes_orig[0,0].set_xlim(1.3,0.1)\n",
    "#     axes_orig[0,0].set_ylim(0.1,80)\n",
    "\n",
    "#     plt.subplots_adjust(hspace=0,wspace=0)\n",
    "\n",
    "#     axes_orig[3,0].set_ylabel(\"Period (d)\")\n",
    "#     axes_orig[-1,0].set_xlabel(r\"Mass (M$_\\odot$)\")\n",
    "#     axes_orig[-1,0].set_xticks(np.arange(0.3,1.4,0.2))\n",
    "#     axes_orig[-1,1].set_xlabel(r\"Mass (M$_\\odot$)\")\n",
    "#     axes_orig[-1,1].set_xticks(np.arange(0.3,1.4,0.2))\n",
    "#     axes_orig[-1,2].set_xlabel(r\"Mass (M$_\\odot$)\")\n",
    "#     axes_orig[-1,2].set_xticks(np.arange(0.3,1.4,0.2))\n",
    "\n",
    "#     # plt.savefig(\"cluster_periods_linear.pdf\",bbox_inches=\"tight\")\n",
    "\n",
    "#     axes_orig[0,0].set_ylim(0.1,60)\n",
    "#     axes_orig[0,0].set_yscale(\"log\")\n",
    "#     axes_orig[0,0].set_yticks([0.1,1,10])\n",
    "#     axes_orig[0,0].set_yticklabels([\"0.1\",\"1\",\"10\"])\n",
    "\n",
    "\n",
    "\n",
    "#     # plt.savefig(\"cluster_periods_log.pdf\",bbox_inches=\"tight\")\n",
    "#     # plt.savefig(\"cluster_periods_log.png\",bbox_inches=\"tight\",dpi=300,facecolor=\"w\")\n"
   ]
  },
  {
   "cell_type": "code",
   "execution_count": 126,
   "metadata": {},
   "outputs": [],
   "source": [
    "def plot_evolution(max_year=2023):\n",
    "\n",
    "    nrows,ncols = 6,3\n",
    "    fig, axes_orig = plt.subplots(nrows=nrows,ncols=ncols,sharex=True,sharey=True,figsize=(13,9))\n",
    "    axes = axes_orig.T.flatten()\n",
    "\n",
    "    cluster_fontsize = 12\n",
    "    textx0, texty0 = 1.25, 20 #22\n",
    "\n",
    "    \n",
    "    params = {\"ms\":2,\"color\":\"k\",\"marker\":\"o\",\"lw\":0}\n",
    "    \n",
    "    fig.suptitle(f\"1987-{max_year}\",y=0.92)\n",
    "\n",
    "\n",
    "\n",
    "    # Col 1 - PMS/ZAMS\n",
    "    c = 0\n",
    "    # ONC/NGC 6530\n",
    "    if max_year>=2002:\n",
    "        axes[0+c].plot(onc_mass,onc_per,**params)\n",
    "    if max_year>=2012:\n",
    "        axes[0+c].plot(ngc6530_mass,ngc6530_per,**params)\n",
    "    axes[0+c].text(textx0,texty0,\"ONC (1-3 Myr), NGC 6530 (1-2 Myr)\",fontsize=cluster_fontsize,color=params[\"color\"])\n",
    "\n",
    "    if max_year>=2008:\n",
    "        axes[1+c].plot(ngc2362_mass,ngc2362_per,**params)\n",
    "    axes[1+c].text(textx0,texty0,\"NGC 2362 (5 Myr)\",fontsize=cluster_fontsize,color=params[\"color\"])\n",
    "\n",
    "    if max_year>2018:\n",
    "        axes[2+c].plot(usco_mass,usco_per,**params)\n",
    "    axes[2+c].text(textx0,texty0,\"USco (8-11 Myr)\",fontsize=cluster_fontsize,color=params[\"color\"])\n",
    "\n",
    "    if max_year>=2013:\n",
    "        axes[3+c].plot(hper_mass,hper_per,**params)\n",
    "    axes[3+c].text(textx0,texty0,\"h Per (13 Myr)\",fontsize=cluster_fontsize,color=params[\"color\"])\n",
    "\n",
    "    if max_year>=2023:\n",
    "        axes[4+c].plot(zams_mass, zams_per,**params)\n",
    "    elif max_year>=2008:\n",
    "        axes[4+c].plot(ngc2547_mass,ngc2547_per,**params)\n",
    "        lit = zams[\"LitPeriod\"].mask==False\n",
    "        axes[4+c].plot(zams[\"Mass\"][lit],zams[\"LitPeriod\"][lit],**params)\n",
    "    else:\n",
    "        # For now, just replicating Barnes 2003\n",
    "        axes[4+c].plot(ic2391_mass, ic2391_per,**params)\n",
    "        axes[4+c].plot(ic2602_mass, ic2602_per,**params)\n",
    "        \n",
    "    axes[4+c].text(textx0,texty0,\"NGC 2547 + others (50 Myr)\",fontsize=cluster_fontsize,color=params[\"color\"])\n",
    "#     axes[4+c].text(textx0-0.65,texty0,\"TESS periods\",fontsize=cluster_fontsize,color=new_color)\n",
    "\n",
    "\n",
    "    split = 0.7\n",
    "    if max_year>=2023:\n",
    "        axes[5+c].plot(alphaper_mass[alphaper_mass<split],alphaper_per[alphaper_mass<split],**params)\n",
    "        axes[5+c].plot(alphaper_mass[alphaper_mass>=split],alphaper_per[alphaper_mass>=split],**params)\n",
    "    else:\n",
    "        # For now, just replicating Barnes 2003\n",
    "        axes[5+c].plot(ap_old_mass, ap_old_per,**params)\n",
    "    axes[5+c].text(textx0,texty0,\"Alpha Persei (71 Myr)\",fontsize=cluster_fontsize,color=params[\"color\"])\n",
    "\n",
    "\n",
    "    # Col 2 - early MS OCs\n",
    "    c = 1*nrows\n",
    "    if max_year>=2016:\n",
    "        axes[0+c].plot(pleiades_mass,pleiades_per,**params)\n",
    "    else:\n",
    "        # For now, just replicating Barnes 2003\n",
    "        axes[0+c].plot(plei_old_mass, plei_old_per,**params)\n",
    "    axes[0+c].text(textx0,texty0,\"Pleiades (125 Myr)\",fontsize=cluster_fontsize,color=params[\"color\"])\n",
    "\n",
    "\n",
    "#     if max_year>=:\n",
    "#         axes[1+c].plot(ngc2516_mass,ngc2516_per,'o',color=gb_color,**grc_params)\n",
    "#     if max_year>=:\n",
    "#         axes[1+c].plot(m50_mass,m50_per,'o',color=gb_color,**grc_params)\n",
    "    if max_year>=2009:\n",
    "        axes[1+c].plot(m35_mass,m35_per,**params)\n",
    "    axes[1+c].text(textx0,texty0,\"M35, NGC 2516, M50 (150 Myr)\",fontsize=cluster_fontsize,color=params[\"color\"])\n",
    "\n",
    "\n",
    "    if max_year>=2006:\n",
    "        axes[2+c].plot(m34_mass,m34_per,**params)\n",
    "    if max_year>=2011:\n",
    "        axes[2+c].plot(m34meibom_mass,m34meibom_per,**params)\n",
    "    axes[2+c].text(textx0,texty0,\"M34 (200 Myr)\",fontsize=cluster_fontsize,color=params[\"color\"])\n",
    "\n",
    "    if max_year>=2021:\n",
    "        axes[3+c].plot(ngc3532_mass,ngc3532_per,**params)\n",
    "    axes[3+c].text(textx0,texty0,\"NGC 3532 (300 Myr)\",fontsize=cluster_fontsize,color=params[\"color\"])\n",
    "\n",
    "    if max_year>=2015:\n",
    "        axes[4+c].plot(m37_mass,m37_per,**params)\n",
    "    axes[4+c].text(textx0,texty0,\"M37 (550 Myr)\",fontsize=cluster_fontsize,color=params[\"color\"])\n",
    "\n",
    "    if max_year>=2009:\n",
    "        axes[5+c].plot(coma_mass,coma_per,**params)\n",
    "    else:\n",
    "        cb = old[\"citekey\"]==\"radick1990\"\n",
    "        axes[5+c].plot(old[\"Mass\"][cb],old[\"Prot (d)\"][cb],**params)\n",
    "    axes[5+c].text(textx0,texty0,\"Coma Ber (600 Myr)\",fontsize=cluster_fontsize,color=params[\"color\"])\n",
    "\n",
    "\n",
    "    # old OCs, Sun, field\n",
    "    textx1, texty1 = 1.25, 0.25\n",
    "    c=2*nrows\n",
    "\n",
    "    # TODO: distinguish my periods from the old ones\n",
    "    # TODO: add hyades periods\n",
    "#     axes[0+c].plot(praesepe_mass,praesepe_per,'o',color=gb_color,**grc_params)\n",
    "    if max_year>=2007:\n",
    "        to_plot = prae_year<=max_year\n",
    "        axes[0+c].plot(prae_mass[to_plot],prae_per[to_plot],**params)\n",
    "    if max_year>=2019:\n",
    "        axes[0+c].plot(prae_mass3,prae_per3,**params)\n",
    "    axes[0+c].text(textx1,texty1,\"Praesepe (790 Myr)\",fontsize=cluster_fontsize,color=params[\"color\"])\n",
    "\n",
    "    # axes[1+c].plot(hyades_mass,hyades_per,'ko',ms=3)\n",
    "    if max_year>=1987:\n",
    "        to_plot = hyad_year<=max_year\n",
    "        axes[1+c].plot(hyad_mass[to_plot],hyad_per[to_plot],**params)\n",
    "    axes[1+c].text(textx1,texty1,\"Hyades (830 Myr)\",fontsize=cluster_fontsize,color=params[\"color\"])\n",
    "\n",
    "    split = 0.9\n",
    "    if max_year>=2011:\n",
    "        axes[2+c].plot(ngc6811_mass[ngc6811_mass>=split], ngc6811_per[ngc6811_mass>=split], \n",
    "                   **params)\n",
    "    if max_year>=2020:\n",
    "        axes[2+c].plot(ngc6811_mass[ngc6811_mass<split], ngc6811_per[ngc6811_mass<split], \n",
    "                   **params)\n",
    "    axes[2+c].text(textx1,texty1*1.2,\"NGC 6811 (1 Gyr)\",fontsize=cluster_fontsize,color=params[\"color\"])\n",
    "\n",
    "    if max_year>=2020:\n",
    "        axes[3+c].plot(rup147_mass, rup147_per,**params)\n",
    "    if max_year>=2015:\n",
    "        axes[3+c].plot(ngc6819_mass[ngc6819_mass>=split], ngc6819_per[ngc6819_mass>=split], \n",
    "                  **params)\n",
    "    if max_year>=2020:\n",
    "        axes[3+c].plot(ngc6819_mass[ngc6819_mass<split], ngc6819_per[ngc6819_mass<split], \n",
    "                  **params)\n",
    "    axes[3+c].text(textx1,texty1,\"NGC 6819, Rup 147 (2.5 Gyr)\",fontsize=cluster_fontsize,color=params[\"color\"])\n",
    "\n",
    "\n",
    "    if max_year>=2016:\n",
    "        axes[4+c].plot(m67_mass, m67_per,**params)\n",
    "    if max_year>=2022:\n",
    "        axes[4+c].plot(m67_mass2, m67_per2,**params)\n",
    "    axes[4+c].plot([1.0],[27],'ko',ms=2)\n",
    "    axes[4+c].plot([1.0],[27],'ko',ms=6,mfc=\"none\")\n",
    "    axes[4+c].text(textx1,texty1,\"M67 (4 Gyr), Sun (4.5 Gyr)\",fontsize=cluster_fontsize,color=params[\"color\"])\n",
    "#     axes[4+c].text(textx1-0.45,texty1,\"\",fontsize=cluster_fontsize,color=params[\"color\"])\n",
    "\n",
    "\n",
    "    if max_year>=2015:\n",
    "        axes[5+c].plot(mearth_mass,mearth_per,'o',color=\"Grey\",alpha=0.5,ms=2)\n",
    "    if max_year>=2013:\n",
    "        axes[5+c].plot(kep_mass,kep_per,'.',ms=1,alpha=0.2,color=\"Grey\")\n",
    "    axes[5+c].text(textx1,texty1,\"Field Stars\",fontsize=cluster_fontsize,color=params[\"color\"])\n",
    "\n",
    "    axes_orig[0,0].set_xlim(1.3,0.1)\n",
    "    axes_orig[0,0].set_ylim(0.1,80)\n",
    "\n",
    "    plt.subplots_adjust(hspace=0,wspace=0)\n",
    "\n",
    "    axes_orig[3,0].set_ylabel(\"Period (d)\")\n",
    "    axes_orig[-1,0].set_xlabel(r\"Mass (M$_\\odot$)\")\n",
    "    axes_orig[-1,0].set_xticks(np.arange(0.3,1.4,0.2))\n",
    "    axes_orig[-1,1].set_xlabel(r\"Mass (M$_\\odot$)\")\n",
    "    axes_orig[-1,1].set_xticks(np.arange(0.3,1.4,0.2))\n",
    "    axes_orig[-1,2].set_xlabel(r\"Mass (M$_\\odot$)\")\n",
    "    axes_orig[-1,2].set_xticks(np.arange(0.3,1.4,0.2))\n",
    "\n",
    "    # plt.savefig(\"cluster_periods_linear.pdf\",bbox_inches=\"tight\")\n",
    "\n",
    "    axes_orig[0,0].set_ylim(0.1,80)\n",
    "    axes_orig[0,0].set_yscale(\"log\")\n",
    "    axes_orig[0,0].set_yticks([0.1,1,10])\n",
    "    axes_orig[0,0].set_yticklabels([\"0.1\",\"1\",\"10\"])\n",
    "\n",
    "\n",
    "\n",
    "#     plt.savefig(\"cluster_periods_log_1987-{max_year}.pdf\",bbox_inches=\"tight\")\n",
    "    plt.savefig(f\"cluster_periods_log_1987-{max_year}.png\",bbox_inches=\"tight\",dpi=300,facecolor=\"w\")\n"
   ]
  },
  {
   "cell_type": "code",
   "execution_count": 127,
   "metadata": {},
   "outputs": [
    {
     "data": {
      "image/png": "[encoded data removed]",
      "text/plain": [
       "<Figure size 936x648 with 18 Axes>"
      ]
     },
     "metadata": {
      "needs_background": "light"
     },
     "output_type": "display_data"
    }
   ],
   "source": [
    "plot_evolution(max_year=2022)"
   ]
  },
  {
   "cell_type": "code",
   "execution_count": null,
   "metadata": {},
   "outputs": [],
   "source": []
  },
  {
   "cell_type": "code",
   "execution_count": null,
   "metadata": {},
   "outputs": [],
   "source": []
  },
  {
   "cell_type": "code",
   "execution_count": 145,
   "metadata": {},
   "outputs": [],
   "source": [
    "def barnes_2003(max_year=2003):\n",
    "\n",
    "    nrows,ncols = 2,4\n",
    "    fig, axes_orig = plt.subplots(nrows=nrows,ncols=ncols,sharex=True,sharey=False,figsize=(13,9))\n",
    "    axes = axes_orig#.T.flatten()\n",
    "    print(axes)\n",
    "\n",
    "    cluster_fontsize = 12\n",
    "    textx0, texty0 = 0.41, 28 #22\n",
    "\n",
    "    # gr_color = \"C1\"\n",
    "    gb_color = \"k\"\n",
    "    sg_color = \"k\"\n",
    "    new_color = \"k\"# \"C0\"\n",
    "\n",
    "    # ms=1.5\n",
    "\n",
    "    grc_params = {\"ms\":2}\n",
    "    need_params = {\"ms\":3,\"mfc\":\"none\",\"mew\":0.75}\n",
    "    \n",
    "    fig.suptitle(f\"1987-{max_year}\",y=0.92)\n",
    "    \n",
    "\n",
    "    # For now, just replicating Barnes 2003\n",
    "    axes[0,0].plot(pm_vi_bv(ic2391[\"V-I\"]), ic2391_per, 'o',color=new_color,**need_params)\n",
    "    axes[0,0].plot(ic2602[\"B-V\"], ic2602_per, 'o',color=new_color,**need_params)\n",
    "        \n",
    "    axes[0,0].text(textx0,texty0,\"IC 2391, IC 2602 (30 Myr*), \",fontsize=cluster_fontsize)\n",
    "\n",
    "\n",
    "    axes[0,1].plot(ap_old_bv, ap_old_per, 'o',color=new_color,**need_params)\n",
    "    axes[0,1].text(textx0,texty0,\"Alpha Persei (50 Myr*)\",fontsize=cluster_fontsize,color=new_color)\n",
    "\n",
    "\n",
    "    axes[0,2].plot(plei_old_mass, plei_old_per, 'o',color=new_color,**need_params)\n",
    "    axes[0,2].text(textx0,texty0,\"Pleiades (100 Myr*)\",fontsize=cluster_fontsize,color=gb_color)\n",
    "\n",
    "\n",
    "    # TODO: update when I get those barnes periods\n",
    "    axes[0,3].plot(m34_mass,m34_per,'o',color=new_color,**need_params)\n",
    "    axes[0,3].text(textx0,texty0,\"M34 (200 Myr)\",fontsize=cluster_fontsize,color=new_color)\n",
    "\n",
    "    \n",
    "    axes[1,0].plot(ngc3532[\"(B-V)0\"][::3],ngc3532_per[::3],'o',color=new_color,**need_params)\n",
    "    axes[1,0].text(textx0,texty0,\"NGC 3532 (300 Myr)\",fontsize=cluster_fontsize,color=new_color)\n",
    "\n",
    "    \n",
    "    cb = old[\"citekey\"]==\"radick1990\"\n",
    "    axes[1,1].plot(old[\"B-V\"][cb],old[\"Prot (d)\"][cb],'o',color=new_color,**need_params)\n",
    "    hy = old[\"citekey\"]==\"radick1987\"\n",
    "    axes[1,1].plot(old[\"B-V\"][hy],old[\"Prot (d)\"][hy],'o',color=new_color,**need_params)\n",
    "    axes[1,1].text(textx0,texty0,\"Coma Ber, Hyades (600 Myr*)\",fontsize=cluster_fontsize,color=new_color)\n",
    "\n",
    "\n",
    "    # old OCs, Sun, field\n",
    "    textx1, texty1 = 0.5, 1\n",
    "\n",
    "    axes[1,2].plot(baliunas[\"B-V\"][baliunas[\"Population\"]==\"Young\"],\n",
    "                   baliunas[\"<Prot>\"][baliunas[\"Population\"]==\"Young\"],'o',color=new_color,**need_params)\n",
    "    axes[1,2].text(textx1,texty1,\"Young Mt Wilson (800 Myr)\",fontsize=cluster_fontsize,color=new_color)\n",
    "\n",
    "    axes[1,3].plot(baliunas[\"B-V\"][baliunas[\"Population\"]==\"Old\"],\n",
    "                   baliunas[\"<Prot>\"][baliunas[\"Population\"]==\"Old\"],'o',color=new_color,**need_params)\n",
    "    axes[1,3].text(textx1,texty1,\"Old Mt Wilson (4.5 Gyr)\",fontsize=cluster_fontsize,color=new_color)\n",
    "\n",
    "    axes[1,3].plot([0.6],[27],'ro',ms=3)\n",
    "    axes[1,3].plot([0.6],[27],'ro',ms=10,mfc=\"none\")\n",
    "\n",
    "    \n",
    "    \n",
    "    for i in range(2):\n",
    "        for j in range(4):\n",
    "            axes[i,j].set_ylim(-1,31)\n",
    "    axes[1,3].set_ylim(-1,85)\n",
    "\n",
    "    axes_orig[0,0].set_xlim(0.4,1.7)\n",
    "    axes_orig[0,0].set_xticks(np.arange(0.4,1.7,0.1),minor=True)\n",
    "\n",
    "#     axes_orig[0,0].set_ylim(-1,30)\n",
    "\n",
    "    plt.subplots_adjust(hspace=0,wspace=0)\n",
    "\n",
    "#     axes_orig[3,0].set_ylabel(\"Period (d)\")\n",
    "#     axes_orig[-1,0].set_xlabel(r\"Mass (M$_\\odot$)\")\n",
    "#     axes_orig[-1,0].set_xticks(np.arange(0.3,1.4,0.2))\n",
    "#     axes_orig[-1,1].set_xlabel(r\"Mass (M$_\\odot$)\")\n",
    "#     axes_orig[-1,1].set_xticks(np.arange(0.3,1.4,0.2))\n",
    "#     axes_orig[-1,2].set_xlabel(r\"Mass (M$_\\odot$)\")\n",
    "#     axes_orig[-1,2].set_xticks(np.arange(0.3,1.4,0.2))\n",
    "\n",
    "#     # plt.savefig(\"cluster_periods_linear.pdf\",bbox_inches=\"tight\")\n",
    "\n",
    "#     axes_orig[0,0].set_ylim(0.1,60)\n",
    "#     axes_orig[0,0].set_yscale(\"log\")\n",
    "#     axes_orig[0,0].set_yticks([0.1,1,10])\n",
    "#     axes_orig[0,0].set_yticklabels([\"0.1\",\"1\",\"10\"])\n",
    "\n",
    "\n",
    "\n",
    "    # plt.savefig(\"cluster_periods_log.pdf\",bbox_inches=\"tight\")\n",
    "    # plt.savefig(\"cluster_periods_log.png\",bbox_inches=\"tight\",dpi=300,facecolor=\"w\")\n"
   ]
  },
  {
   "cell_type": "code",
   "execution_count": 146,
   "metadata": {},
   "outputs": [
    {
     "name": "stdout",
     "output_type": "stream",
     "text": [
      "[[<AxesSubplot:> <AxesSubplot:> <AxesSubplot:> <AxesSubplot:>]\n",
      " [<AxesSubplot:> <AxesSubplot:> <AxesSubplot:> <AxesSubplot:>]]\n"
     ]
    },
    {
     "data": {
      "image/png": "[encoded data removed]",
      "text/plain": [
       "<Figure size 936x648 with 8 Axes>"
      ]
     },
     "metadata": {
      "needs_background": "light"
     },
     "output_type": "display_data"
    }
   ],
   "source": [
    "barnes_2003()"
   ]
  },
  {
   "cell_type": "code",
   "execution_count": 130,
   "metadata": {},
   "outputs": [
    {
     "name": "stdout",
     "output_type": "stream",
     "text": [
      "(array([113, 114, 115, 116, 117, 118, 119, 120, 121, 122, 123, 124, 125,\n",
      "       126, 127, 128, 129, 130, 131, 132, 133, 134, 135]),)\n"
     ]
    }
   ],
   "source": [
    "hy = old[\"citekey\"]==\"radick1987\"\n",
    "print(np.where(hy))"
   ]
  },
  {
   "cell_type": "code",
   "execution_count": 131,
   "metadata": {},
   "outputs": [
    {
     "data": {
      "text/plain": [
       "[<matplotlib.lines.Line2D at 0x7fe38a4ef0d0>]"
      ]
     },
     "execution_count": 131,
     "metadata": {},
     "output_type": "execute_result"
    },
    {
     "data": {
      "image/png": "[encoded data removed]",
      "text/plain": [
       "<Figure size 576x576 with 1 Axes>"
      ]
     },
     "metadata": {
      "needs_background": "light"
     },
     "output_type": "display_data"
    }
   ],
   "source": [
    "cb = old[\"citekey\"]==\"radick1990\"\n",
    "hy = old[\"citekey\"]==\"radick1987\"\n",
    "plt.plot(old[\"B-V\"][cb],old[\"Prot (d)\"][cb],'o')\n",
    "plt.plot(old[\"B-V\"][hy],old[\"Prot (d)\"][hy],'o')\n"
   ]
  },
  {
   "cell_type": "code",
   "execution_count": 132,
   "metadata": {},
   "outputs": [
    {
     "data": {
      "text/html": [
       "<i>Table length=4</i>\n",
       "<table id=\"table140615254677728\" class=\"table-striped table-bordered table-condensed\">\n",
       "<thead><tr><th>Name</th><th>SimbadName</th><th>Prot (d)</th><th>Population</th><th>citekey</th><th>ads_ref</th><th>Notes</th><th>V</th><th>B</th><th>B-V</th><th>Mass</th></tr></thead>\n",
       "<thead><tr><th>str19</th><th>str24</th><th>float64</th><th>str9</th><th>str25</th><th>str21</th><th>str77</th><th>float64</th><th>float64</th><th>float64</th><th>float64</th></tr></thead>\n",
       "<tr><td>T65</td><td>Cl Melotte 111 65</td><td>5.33</td><td>Coma Ber</td><td>radick1990</td><td>1990ApJ...353..524R</td><td>--</td><td>9.029999732971191</td><td>9.609999656677246</td><td>0.5799999237060547</td><td>1.0800001907348633</td></tr>\n",
       "<tr><td>T76</td><td>Cl Melotte 111 76</td><td>4.97</td><td>Coma Ber</td><td>radick1990</td><td>1990ApJ...353..524R</td><td>--</td><td>9.0</td><td>9.619999885559082</td><td>0.619999885559082</td><td>1.0322223493787979</td></tr>\n",
       "<tr><td>T85</td><td>Cl Melotte 111 85</td><td>7.34</td><td>Coma Ber</td><td>radick1990</td><td>1990ApJ...353..524R</td><td>--</td><td>9.3100004196167</td><td>9.890000343322754</td><td>0.5799999237060547</td><td>1.0800001907348633</td></tr>\n",
       "<tr><td>T132</td><td>Cl Melotte 111 132</td><td>13.53</td><td>Coma Ber</td><td>radick1990</td><td>1990ApJ...353..524R</td><td>--</td><td>9.90999984741211</td><td>10.59000015258789</td><td>0.6800003051757812</td><td>0.9799998474121093</td></tr>\n",
       "</table>"
      ],
      "text/plain": [
       "<Table length=4>\n",
       " Name     SimbadName     Prot (d) ...        B-V                Mass       \n",
       "str19       str24        float64  ...      float64            float64      \n",
       "----- ------------------ -------- ... ------------------ ------------------\n",
       "  T65  Cl Melotte 111 65     5.33 ... 0.5799999237060547 1.0800001907348633\n",
       "  T76  Cl Melotte 111 76     4.97 ...  0.619999885559082 1.0322223493787979\n",
       "  T85  Cl Melotte 111 85     7.34 ... 0.5799999237060547 1.0800001907348633\n",
       " T132 Cl Melotte 111 132    13.53 ... 0.6800003051757812 0.9799998474121093"
      ]
     },
     "execution_count": 132,
     "metadata": {},
     "output_type": "execute_result"
    }
   ],
   "source": [
    "old[cb]"
   ]
  },
  {
   "cell_type": "code",
   "execution_count": 133,
   "metadata": {},
   "outputs": [
    {
     "data": {
      "text/html": [
       "<i>Table length=23</i>\n",
       "<table id=\"table140615254677488\" class=\"table-striped table-bordered table-condensed\">\n",
       "<thead><tr><th>Name</th><th>SimbadName</th><th>Prot (d)</th><th>Population</th><th>citekey</th><th>ads_ref</th><th>Notes</th><th>V</th><th>B</th><th>B-V</th><th>Mass</th></tr></thead>\n",
       "<thead><tr><th>str19</th><th>str24</th><th>float64</th><th>str9</th><th>str25</th><th>str21</th><th>str77</th><th>float64</th><th>float64</th><th>float64</th><th>float64</th></tr></thead>\n",
       "<tr><td>VB 65</td><td>Cl Melotte 25 65</td><td>5.87</td><td>Hyades</td><td>radick1987</td><td>1987ApJ...321..459R</td><td>--</td><td>7.4039998054504395</td><td>7.948999881744385</td><td>0.5450000762939453</td><td>1.1549998728434245</td></tr>\n",
       "<tr><td>VB 59</td><td>Cl Melotte 25 59</td><td>4.83</td><td>Hyades</td><td>radick1987</td><td>1987ApJ...321..459R</td><td>--</td><td>7.4720001220703125</td><td>8.027000427246094</td><td>0.5550003051757812</td><td>1.1383328247070312</td></tr>\n",
       "<tr><td>VB 31</td><td>Cl Melotte 25 31</td><td>5.45</td><td>Hyades</td><td>radick1987</td><td>1987ApJ...321..459R</td><td>--</td><td>7.443999767303467</td><td>8.015999794006348</td><td>0.5720000267028809</td><td>1.0999999332427979</td></tr>\n",
       "<tr><td>VB 52</td><td>Cl Melotte 25 52</td><td>8.05</td><td>Hyades</td><td>radick1987</td><td>1987ApJ...321..459R</td><td>--</td><td>7.789999961853027</td><td>8.381999969482422</td><td>0.5920000076293945</td><td>1.063999989827474</td></tr>\n",
       "<tr><td>VB 50</td><td>Cl Melotte 25 50</td><td>7.1</td><td>Hyades</td><td>radick1987</td><td>1987ApJ...321..459R</td><td>--</td><td>7.583000183105469</td><td>8.217000007629395</td><td>0.6339998245239258</td><td>1.0171430451529366</td></tr>\n",
       "<tr><td>VB 102</td><td>Cl Melotte 25 102</td><td>6.46</td><td>Hyades</td><td>radick1987</td><td>1987ApJ...321..459R</td><td>--</td><td>7.545000076293945</td><td>8.152999877929688</td><td>0.6079998016357422</td><td>1.0455557759602865</td></tr>\n",
       "<tr><td>VB 73</td><td>Cl Melotte 25 73</td><td>7.41</td><td>Hyades</td><td>radick1987</td><td>1987ApJ...321..459R</td><td>--</td><td>7.836999893188477</td><td>8.456000328063965</td><td>0.6190004348754883</td><td>1.0333328501383463</td></tr>\n",
       "<tr><td>VB 63</td><td>Cl Melotte 25 63</td><td>7.73</td><td>Hyades</td><td>radick1987</td><td>1987ApJ...321..459R</td><td>--</td><td>8.050000190734863</td><td>8.6899995803833</td><td>0.6399993896484375</td><td>1.0107149396623885</td></tr>\n",
       "<tr><td>VB 97</td><td>Cl Melotte 25 97</td><td>8.55</td><td>Hyades</td><td>radick1987</td><td>1987ApJ...321..459R</td><td>--</td><td>7.8979997634887695</td><td>8.529999732971191</td><td>0.6319999694824219</td><td>1.0192857469831194</td></tr>\n",
       "<tr><td>VB 64</td><td>Cl Melotte 25 64</td><td>8.67</td><td>Hyades</td><td>radick1987</td><td>1987ApJ...321..459R</td><td>--</td><td>8.119999885559082</td><td>8.779999732971191</td><td>0.6599998474121094</td><td>0.9900001525878906</td></tr>\n",
       "<tr><td>...</td><td>...</td><td>...</td><td>...</td><td>...</td><td>...</td><td>...</td><td>...</td><td>...</td><td>...</td><td>...</td></tr>\n",
       "<tr><td>VB 21</td><td>Cl Melotte 25 21</td><td>8.98</td><td>Hyades</td><td>radick1987</td><td>1987ApJ...321..459R</td><td>--</td><td>9.125</td><td>9.944000244140625</td><td>0.819000244140625</td><td>0.8785364662728659</td></tr>\n",
       "<tr><td>VB 79</td><td>Cl Melotte 25 79</td><td>11.38</td><td>Hyades</td><td>radick1987</td><td>1987ApJ...321..459R</td><td>--</td><td>8.934000015258789</td><td>9.76099967956543</td><td>0.8269996643066406</td><td>0.8746343100943216</td></tr>\n",
       "<tr><td>VB 91</td><td>Cl Melotte 25 91</td><td>9.36</td><td>Hyades</td><td>radick1987</td><td>1987ApJ...321..459R</td><td>--</td><td>8.899999618530273</td><td>9.850000381469727</td><td>0.9500007629394531</td><td>0.795094051720961</td></tr>\n",
       "<tr><td>VB 43</td><td>Cl Melotte 25 43</td><td>10.26</td><td>Hyades</td><td>radick1987</td><td>1987ApJ...321..459R</td><td>--</td><td>9.380999565124512</td><td>10.289999961853027</td><td>0.9090003967285156</td><td>0.8105658880269752</td></tr>\n",
       "<tr><td>VB 25</td><td>Cl Melotte 25 25</td><td>12.64</td><td>Hyades</td><td>radick1987</td><td>1987ApJ...321..459R</td><td>--</td><td>9.54800033569336</td><td>10.531999588012695</td><td>0.9839992523193359</td><td>0.7822644330870431</td></tr>\n",
       "<tr><td>VB 175</td><td>Cl Melotte 25 175</td><td>10.82</td><td>Hyades</td><td>radick1987</td><td>1987ApJ...321..459R</td><td>--</td><td>10.248000144958496</td><td>11.276000022888184</td><td>1.0279998779296875</td><td>0.7610000610351563</td></tr>\n",
       "<tr><td>VB 174</td><td>Cl Melotte 25 174</td><td>11.88</td><td>Hyades</td><td>radick1987</td><td>1987ApJ...321..459R</td><td>--</td><td>9.965999603271484</td><td>11.03499984741211</td><td>1.069000244140625</td><td>0.7404998779296875</td></tr>\n",
       "<tr><td>VB 181</td><td>Cl Melotte 25 181</td><td>11.92</td><td>Hyades</td><td>radick1987</td><td>1987ApJ...321..459R</td><td>--</td><td>10.628999710083008</td><td>11.479999542236328</td><td>0.8509998321533203</td><td>0.8629269111447218</td></tr>\n",
       "<tr><td>VB 173</td><td>Cl Melotte 25 173</td><td>14.14</td><td>Hyades</td><td>radick1987</td><td>1987ApJ...321..459R</td><td>--</td><td>10.472000122070312</td><td>11.885000228881836</td><td>1.4130001068115234</td><td>0.5769998931884764</td></tr>\n",
       "<tr><td>VB 190</td><td>Cl Melotte 25 190</td><td>3.66</td><td>Hyades</td><td>radick1987</td><td>1987ApJ...321..459R</td><td>--</td><td>10.697999954223633</td><td>12.00100040435791</td><td>1.3030004501342773</td><td>0.6584997749328614</td></tr>\n",
       "</table>"
      ],
      "text/plain": [
       "<Table length=23>\n",
       " Name      SimbadName    Prot (d) ...        B-V                Mass       \n",
       "str19        str24       float64  ...      float64            float64      \n",
       "------ ----------------- -------- ... ------------------ ------------------\n",
       " VB 65  Cl Melotte 25 65     5.87 ... 0.5450000762939453 1.1549998728434245\n",
       " VB 59  Cl Melotte 25 59     4.83 ... 0.5550003051757812 1.1383328247070312\n",
       " VB 31  Cl Melotte 25 31     5.45 ... 0.5720000267028809 1.0999999332427979\n",
       " VB 52  Cl Melotte 25 52     8.05 ... 0.5920000076293945  1.063999989827474\n",
       " VB 50  Cl Melotte 25 50      7.1 ... 0.6339998245239258 1.0171430451529366\n",
       "VB 102 Cl Melotte 25 102     6.46 ... 0.6079998016357422 1.0455557759602865\n",
       " VB 73  Cl Melotte 25 73     7.41 ... 0.6190004348754883 1.0333328501383463\n",
       " VB 63  Cl Melotte 25 63     7.73 ... 0.6399993896484375 1.0107149396623885\n",
       " VB 97  Cl Melotte 25 97     8.55 ... 0.6319999694824219 1.0192857469831194\n",
       " VB 64  Cl Melotte 25 64     8.67 ... 0.6599998474121094 0.9900001525878906\n",
       "   ...               ...      ... ...                ...                ...\n",
       " VB 21  Cl Melotte 25 21     8.98 ...  0.819000244140625 0.8785364662728659\n",
       " VB 79  Cl Melotte 25 79    11.38 ... 0.8269996643066406 0.8746343100943216\n",
       " VB 91  Cl Melotte 25 91     9.36 ... 0.9500007629394531  0.795094051720961\n",
       " VB 43  Cl Melotte 25 43    10.26 ... 0.9090003967285156 0.8105658880269752\n",
       " VB 25  Cl Melotte 25 25    12.64 ... 0.9839992523193359 0.7822644330870431\n",
       "VB 175 Cl Melotte 25 175    10.82 ... 1.0279998779296875 0.7610000610351563\n",
       "VB 174 Cl Melotte 25 174    11.88 ...  1.069000244140625 0.7404998779296875\n",
       "VB 181 Cl Melotte 25 181    11.92 ... 0.8509998321533203 0.8629269111447218\n",
       "VB 173 Cl Melotte 25 173    14.14 ... 1.4130001068115234 0.5769998931884764\n",
       "VB 190 Cl Melotte 25 190     3.66 ... 1.3030004501342773 0.6584997749328614"
      ]
     },
     "execution_count": 133,
     "metadata": {},
     "output_type": "execute_result"
    }
   ],
   "source": [
    "old[hy]"
   ]
  },
  {
   "cell_type": "code",
   "execution_count": null,
   "metadata": {},
   "outputs": [],
   "source": []
  },
  {
   "cell_type": "code",
   "execution_count": null,
   "metadata": {},
   "outputs": [],
   "source": []
  }
 ],
 "metadata": {
  "kernelspec": {
   "display_name": "Python 3",
   "language": "python",
   "name": "python3"
  },
  "language_info": {
   "codemirror_mode": {
    "name": "ipython",
    "version": 3
   },
   "file_extension": ".py",
   "mimetype": "text/x-python",
   "name": "python",
   "nbconvert_exporter": "python",
   "pygments_lexer": "ipython3",
   "version": "3.8.8"
  }
 },
 "nbformat": 4,
 "nbformat_minor": 1
}
